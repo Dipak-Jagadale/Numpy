{
 "cells": [
  {
   "cell_type": "markdown",
   "id": "d850f54f",
   "metadata": {},
   "source": [
    "## Numerical Python End to End in Details\n"
   ]
  },
  {
   "cell_type": "markdown",
   "id": "e3955fe0",
   "metadata": {},
   "source": [
    "### Numpy"
   ]
  },
  {
   "cell_type": "markdown",
   "id": "be21ea58",
   "metadata": {},
   "source": [
    "#### Numpy is a Numerical python "
   ]
  },
  {
   "cell_type": "markdown",
   "id": "dc8ac43c",
   "metadata": {},
   "source": [
    "It is developed Travis oliphant in 2005"
   ]
  },
  {
   "cell_type": "markdown",
   "id": "56270166",
   "metadata": {},
   "source": [
    "Numpy  has function to work on linear algebra, fourier trasform, and matrices "
   ]
  },
  {
   "cell_type": "markdown",
   "id": "4c24e603",
   "metadata": {},
   "source": [
    "its basicaallly used to work with array,it can work with multidimentional array"
   ]
  },
  {
   "cell_type": "markdown",
   "id": "65a45e17",
   "metadata": {},
   "source": [
    "# Why\n"
   ]
  },
  {
   "cell_type": "markdown",
   "id": "8033597e",
   "metadata": {},
   "source": [
    "Numpy is built using python , and most of the which requires faster excution is developed \n",
    "using C or C++,so it is very fast in excution"
   ]
  },
  {
   "cell_type": "markdown",
   "id": "4ce95ab5",
   "metadata": {},
   "source": [
    "Numpy arrays are called as ndarray"
   ]
  },
  {
   "cell_type": "markdown",
   "id": "7b73784f",
   "metadata": {},
   "source": [
    "Numpy has 50X speed  as compared too python list"
   ]
  },
  {
   "cell_type": "markdown",
   "id": "4c8490e9",
   "metadata": {},
   "source": [
    "Numpy provides lots of functions which can be performed on large date"
   ]
  },
  {
   "cell_type": "markdown",
   "id": "79672551",
   "metadata": {},
   "source": [
    "Numpy gives faster response as compared to list as it stores numpy arrays at one continous location"
   ]
  },
  {
   "cell_type": "markdown",
   "id": "1d97303b",
   "metadata": {},
   "source": [
    "### Installation of Numpy"
   ]
  },
  {
   "cell_type": "markdown",
   "id": "33ea5bae",
   "metadata": {},
   "source": [
    "Go to terminal and use below command, without!\n",
    "\n",
    "! pip install numpy\n",
    "\n",
    "you can use other tools like  spyder or annaconda wnich comes\n",
    "with its installation"
   ]
  },
  {
   "cell_type": "code",
   "execution_count": 1,
   "id": "13d02f1a",
   "metadata": {},
   "outputs": [
    {
     "name": "stdout",
     "output_type": "stream",
     "text": [
      "numpy version is : 1.24.2\n",
      "[1, 2, 3, 4, 5, 6, 7]\n",
      "<class 'type'>\n",
      "[1 2 3 4 5 6 7]\n",
      "<class 'numpy.ndarray'>\n"
     ]
    }
   ],
   "source": [
    "#create a numpy array using list\n",
    "\n",
    "import numpy as np\n",
    "\n",
    "print(\"numpy version is :\",np.__version__)\n",
    "\n",
    "list1 = [1,2,3,4,5,6,7]\n",
    "print(list1)\n",
    "print(type(list))\n",
    "x = np.array(list1)\n",
    "print(x)\n",
    "print(type(x))"
   ]
  },
  {
   "cell_type": "code",
   "execution_count": 2,
   "id": "e4600045",
   "metadata": {},
   "outputs": [
    {
     "name": "stdout",
     "output_type": "stream",
     "text": [
      "[1 2 3 4 5 6 7 8 9]\n",
      "1\n"
     ]
    }
   ],
   "source": [
    "# How to access the element \n",
    "# its 1- D array\n",
    "arr = np.array([1,2,3,4,5,6,7,8,9])\n",
    "print(arr)\n",
    "\n",
    "# lets check the dimention of the array\n",
    "print(x.ndim)"
   ]
  },
  {
   "cell_type": "code",
   "execution_count": 3,
   "id": "3b71ea59",
   "metadata": {},
   "outputs": [
    {
     "name": "stdout",
     "output_type": "stream",
     "text": [
      "[1 2 3 4 5 6 7 8 9]\n",
      "<class 'numpy.ndarray'>\n",
      "************************************************************\n",
      "[10 20 30 40]\n",
      "<class 'numpy.ndarray'>\n"
     ]
    }
   ],
   "source": [
    "# creat a numpy  array using list\n",
    "\n",
    "arr = np.array ([1,2,3,4,5,6,7,8,9])\n",
    "print(arr)\n",
    "print(type(arr))\n",
    "\n",
    "print('*'*60)\n",
    "\n",
    "lst = [10,20,30,40]\n",
    "ar = np.array(lst)\n",
    "print(ar)\n",
    "print(type(ar))"
   ]
  },
  {
   "cell_type": "code",
   "execution_count": 4,
   "id": "f546bcf7",
   "metadata": {},
   "outputs": [
    {
     "name": "stdout",
     "output_type": "stream",
     "text": [
      "[1 2 3 4 5 6 7 8 9]\n",
      "Number of dimention: 1\n"
     ]
    }
   ],
   "source": [
    "# how to access the element\n",
    "# its 1-D array\n",
    "arr = np.array([1,2,3,4,5,6,7,8,9])\n",
    "print(arr)\n",
    "# lets check the dimentions of the array\n",
    "print('Number of dimention:',arr.ndim)"
   ]
  },
  {
   "cell_type": "code",
   "execution_count": 5,
   "id": "2f6d1c45",
   "metadata": {},
   "outputs": [
    {
     "name": "stdout",
     "output_type": "stream",
     "text": [
      "[1 2 3 4 5 6]\n",
      "<class 'numpy.ndarray'>\n"
     ]
    }
   ],
   "source": [
    "# craete numpy array using tuple\n",
    "\n",
    "tup = (1,2,3,4,5,6)\n",
    "ar = np.array(tup)\n",
    "print(ar)\n",
    "print(type(ar))"
   ]
  },
  {
   "cell_type": "code",
   "execution_count": 6,
   "id": "ddb1f60a",
   "metadata": {},
   "outputs": [],
   "source": [
    "# different dimentional arrays:"
   ]
  },
  {
   "cell_type": "code",
   "execution_count": 7,
   "id": "1432d359",
   "metadata": {},
   "outputs": [
    {
     "name": "stdout",
     "output_type": "stream",
     "text": [
      "9\n",
      "<class 'numpy.ndarray'>\n",
      "Dimention of array : 0\n"
     ]
    }
   ],
   "source": [
    "# 1. 0-D array\n",
    "\n",
    "arr = np.array (9)\n",
    "print(arr)\n",
    "print(type(arr))\n",
    "print(\"Dimention of array :\",arr.ndim)"
   ]
  },
  {
   "cell_type": "code",
   "execution_count": 8,
   "id": "e258bfe5",
   "metadata": {},
   "outputs": [
    {
     "name": "stdout",
     "output_type": "stream",
     "text": [
      "[ 1  2  3  4 45]\n",
      "<class 'numpy.ndarray'>\n",
      "Dimensons of array: 1\n",
      "element present at 4th index: 45\n"
     ]
    }
   ],
   "source": [
    "# 2. 1-D array \n",
    "\n",
    "arr= np. array([1,2,3,4,45])\n",
    "print(arr)\n",
    "print(type(arr))\n",
    "print(\"Dimensons of array:\", arr.ndim)\n",
    "\n",
    "# access element an 1-D Array \n",
    "print ('element present at 4th index:', arr[4])"
   ]
  },
  {
   "cell_type": "code",
   "execution_count": 9,
   "id": "66d69e29",
   "metadata": {},
   "outputs": [
    {
     "name": "stdout",
     "output_type": "stream",
     "text": [
      "[[1 2 3]\n",
      " [4 5 6]]\n",
      "<class 'numpy.ndarray'>\n",
      "Dimention of array: 2\n",
      "Element present at lst in axis 0: 2\n"
     ]
    }
   ],
   "source": [
    "# 3 2-D array \n",
    "# Arrray having 1- D array as input eleement ara called as  2-D array\n",
    "\n",
    "arr = np.array([[1,2,3],[4,5,6]])\n",
    "print(arr)\n",
    "print(type(arr))\n",
    "print(\"Dimention of array:\",arr.ndim)\n",
    "\n",
    "# Acess eleemn an 2-D  array\n",
    "# Array having 1-D array as input element are called as 2-D array\n",
    "\n",
    "\n",
    "print('Element present at lst in axis 0:',arr[0,1]) # array"
   ]
  },
  {
   "cell_type": "code",
   "execution_count": 10,
   "id": "dc6458d2",
   "metadata": {},
   "outputs": [
    {
     "name": "stdout",
     "output_type": "stream",
     "text": [
      "[[1 2 3 4]\n",
      " [4 5 6 7]\n",
      " [4 5 6 7]\n",
      " [4 5 6 7]]\n",
      "Dimention: 2\n"
     ]
    }
   ],
   "source": [
    "import numpy as np\n",
    "ar = [[1,2,3,4],[4,5,6,7],[4,5,6,7],[4,5,6,7]]\n",
    "arr = np.array(ar)\n",
    "print(arr)\n",
    "print(\"Dimention:\",arr.ndim)"
   ]
  },
  {
   "cell_type": "code",
   "execution_count": 11,
   "id": "a4e42afe",
   "metadata": {},
   "outputs": [
    {
     "name": "stdout",
     "output_type": "stream",
     "text": [
      "[[1 2 3 4]\n",
      " [4 5 6 7]\n",
      " [4 5 6 7]\n",
      " [4 5 6 7]]\n",
      "Dimention: 2\n",
      "************************************************************\n",
      "arr[0][3]: 4\n",
      "************************************************************\n",
      "arr[0]: [1 2 3 4]\n",
      "************************************************************\n",
      "arr[0][2]: 3\n",
      "************************************************************\n",
      "arr[1]: [4 5 6 7]\n",
      "arr[3,1]: 5\n"
     ]
    }
   ],
   "source": [
    "#Access the element of 2-D array\n",
    "\n",
    "\n",
    "print(arr)\n",
    "#dimention\n",
    "print(\"Dimention:\",arr.ndim)\n",
    "print('*'*60)\n",
    "\n",
    "#one way is to write\n",
    "print('arr[0][3]:',arr[0][3])\n",
    "print('*'*60)\n",
    "\n",
    "print('arr[0]:',arr[0])\n",
    "print('*'*60)\n",
    "\n",
    "print('arr[0][2]:',arr[0][2])\n",
    "print('*'*60)\n",
    "\n",
    "#anather way is like\n",
    "print('arr[1]:',arr[1])\n",
    "print('arr[3,1]:',arr[3,1])"
   ]
  },
  {
   "cell_type": "code",
   "execution_count": 12,
   "id": "6b052a28",
   "metadata": {},
   "outputs": [
    {
     "name": "stdout",
     "output_type": "stream",
     "text": [
      "[[[1, 2, 3], [4, 5, 6]], [[10, 20, 30], [40, 50, 60]]]\n",
      "<class 'list'>\n",
      "************************************************************\n",
      "[[[ 1  2  3]\n",
      "  [ 4  5  6]]\n",
      "\n",
      " [[10 20 30]\n",
      "  [40 50 60]]]\n",
      "<class 'numpy.ndarray'>\n",
      "****************************************************************************************************\n",
      "Dimention of array: 3\n"
     ]
    }
   ],
   "source": [
    "#4].  3-D array\n",
    "# array  that has 2-D array (matrices)as its element is called \n",
    "\n",
    "ar= [[[1,2,3],[4,5,6]],[[10,20,30],[40,50,60]]]\n",
    "print(ar)\n",
    "print(type(ar))\n",
    "print('*'*60)\n",
    "\n",
    "arr=np.array(ar)\n",
    "print(arr)\n",
    "print(type(arr))\n",
    "print('*'*100)\n",
    "\n",
    "print('Dimention of array:', arr.ndim)"
   ]
  },
  {
   "cell_type": "code",
   "execution_count": 13,
   "id": "a0696532",
   "metadata": {},
   "outputs": [
    {
     "name": "stdout",
     "output_type": "stream",
     "text": [
      "[[[ 1  2  3]\n",
      "  [ 4  5  6]]\n",
      "\n",
      " [[10 20 30]\n",
      "  [40 50 60]]]\n",
      "<class 'numpy.ndarray'>\n",
      "****************************************************************************************************\n",
      "One way is :\n",
      "arr[1]: [[10 20 30]\n",
      " [40 50 60]]\n",
      "arr[0][0]: [1 2 3]\n",
      "arr[0][0][2]: 3\n",
      "****************************************************************************************************\n"
     ]
    }
   ],
   "source": [
    "# access the element of the 3-D array \n",
    "\n",
    "print(arr)\n",
    "print(type(arr))\n",
    "print('*'*100)\n",
    "\n",
    "print('One way is :')\n",
    "print('arr[1]:',arr[1])\n",
    "print('arr[0][0]:',arr[0][0])\n",
    "print('arr[0][0][2]:',arr[0][0][2])\n",
    "\n",
    "print('*'*100)"
   ]
  },
  {
   "cell_type": "markdown",
   "id": "888d019b",
   "metadata": {},
   "source": [
    "## Creat an n dimention array"
   ]
  },
  {
   "cell_type": "markdown",
   "id": "22ee9d8f",
   "metadata": {},
   "source": [
    " lower dimention to lower dimention will possible by using  ndmin funtion for we need to go with array.reshape(funtion)\n",
    " \n",
    " \n",
    " ndim = ..1./2/3/4/5/...\n",
    " \n",
    " but higher dimention to lower dimention will possible by using ndim function for we need to go with array.reshape() function"
   ]
  },
  {
   "cell_type": "code",
   "execution_count": 14,
   "id": "2b691467",
   "metadata": {},
   "outputs": [
    {
     "name": "stdout",
     "output_type": "stream",
     "text": [
      "[[[[[1 2 3 4]]]]]\n",
      "Number of dimention: 5\n"
     ]
    }
   ],
   "source": [
    "# creat an n dimention array \n",
    "arr = np.array([1,2,3,4],ndmin=5)\n",
    "\n",
    "print(arr)\n",
    "print('Number of dimention:',arr.ndim)"
   ]
  },
  {
   "cell_type": "code",
   "execution_count": 15,
   "id": "d4b95d9a",
   "metadata": {},
   "outputs": [
    {
     "data": {
      "text/plain": [
       "(array([[[[[1, 2, 3]]]]]), 5)"
      ]
     },
     "execution_count": 15,
     "metadata": {},
     "output_type": "execute_result"
    }
   ],
   "source": [
    "# lower to higher is possible but higher to lower not possible\n",
    "import numpy as np\n",
    "arr1 = np.array([[[[[1,2,3]]]]],ndmin=3)\n",
    "arr1,arr1.ndim"
   ]
  },
  {
   "cell_type": "code",
   "execution_count": 16,
   "id": "6d15b433",
   "metadata": {},
   "outputs": [
    {
     "data": {
      "text/plain": [
       "(array([[[1, 2, 3]]]), 3)"
      ]
     },
     "execution_count": 16,
     "metadata": {},
     "output_type": "execute_result"
    }
   ],
   "source": [
    "arr2 = np.array([1,2,3],ndmin=3)\n",
    "arr2,arr2.ndim"
   ]
  },
  {
   "cell_type": "code",
   "execution_count": 17,
   "id": "28604dfd",
   "metadata": {},
   "outputs": [
    {
     "data": {
      "text/plain": [
       "5"
      ]
     },
     "execution_count": 17,
     "metadata": {},
     "output_type": "execute_result"
    }
   ],
   "source": [
    "arr11 = np.array([1,2,3,4])\n",
    "arr10 = arr11.reshape((1,1,1,1,4))\n",
    "arr10.ndim"
   ]
  },
  {
   "cell_type": "code",
   "execution_count": 18,
   "id": "af918ce2",
   "metadata": {},
   "outputs": [
    {
     "name": "stdout",
     "output_type": "stream",
     "text": [
      "[[[ 1  2  3]\n",
      "  [ 4  5  6]]\n",
      "\n",
      " [[10 20 30]\n",
      "  [40 50 60]]] 3\n"
     ]
    },
    {
     "data": {
      "text/plain": [
       "(2, 2, 3)"
      ]
     },
     "execution_count": 18,
     "metadata": {},
     "output_type": "execute_result"
    }
   ],
   "source": [
    "b = np.array([[[1,2,3],[4,5,6,]],[[10,20,30],[40,50,60]]])\n",
    "print(b,b.ndim)\n",
    "b.shape"
   ]
  },
  {
   "cell_type": "code",
   "execution_count": 19,
   "id": "ecd982d5",
   "metadata": {},
   "outputs": [
    {
     "data": {
      "text/plain": [
       "(array([[[ 1,  2,  3],\n",
       "         [ 4,  5,  6]],\n",
       " \n",
       "        [[10, 20, 30],\n",
       "         [40, 50, 60]]]),\n",
       " 3)"
      ]
     },
     "execution_count": 19,
     "metadata": {},
     "output_type": "execute_result"
    }
   ],
   "source": [
    "b=np.array ([[[1,2,3],[4,5,6]],[[10,20,30],[40,50,60]]])\n",
    "b,b.ndim"
   ]
  },
  {
   "cell_type": "code",
   "execution_count": 20,
   "id": "1df5ee32",
   "metadata": {},
   "outputs": [
    {
     "data": {
      "text/plain": [
       "6"
      ]
     },
     "execution_count": 20,
     "metadata": {},
     "output_type": "execute_result"
    }
   ],
   "source": [
    "b[0,1,2]"
   ]
  },
  {
   "cell_type": "markdown",
   "id": "d321d14c",
   "metadata": {},
   "source": [
    "## Array Slicing"
   ]
  },
  {
   "cell_type": "code",
   "execution_count": 21,
   "id": "348e8d60",
   "metadata": {},
   "outputs": [
    {
     "data": {
      "text/plain": [
       "(array([[[[[1, 2, 3, 4]]]]]), 5, (1, 1, 1, 1, 4))"
      ]
     },
     "execution_count": 21,
     "metadata": {},
     "output_type": "execute_result"
    }
   ],
   "source": [
    "arr = np.array([1,2,3,4],ndmin=5)\n",
    "arr,arr.ndim,arr.shape\n",
    "\n"
   ]
  },
  {
   "cell_type": "code",
   "execution_count": 22,
   "id": "55aec0ed",
   "metadata": {},
   "outputs": [
    {
     "name": "stdout",
     "output_type": "stream",
     "text": [
      "1\n",
      "2\n",
      "3\n",
      "4\n"
     ]
    }
   ],
   "source": [
    "# 5d array slicing\n",
    "\n",
    "print(arr[0][0][0][0][0])\n",
    "print(arr[0][0][0][0][1])\n",
    "print(arr[0][0][0][0][2])\n",
    "print(arr[0][0][0][0][3])\n"
   ]
  },
  {
   "cell_type": "code",
   "execution_count": 23,
   "id": "e6513708",
   "metadata": {},
   "outputs": [
    {
     "name": "stdout",
     "output_type": "stream",
     "text": [
      "[1 2 3 4 5 6 7 8 9]\n",
      "Length: 9\n",
      "[6 7 8 9]\n",
      "[1 2 3 4 5 6 7 8 9]\n"
     ]
    }
   ],
   "source": [
    "arr = np.array([1,2,3,4,5,6,7,8,9])\n",
    "print(arr)\n",
    "\n",
    "# slice\n",
    "print(\"Length:\",len(arr))\n",
    "print(arr[5:9])\n",
    "print(arr)\n",
    "\n",
    "# [start:end], start include ,end excluded"
   ]
  },
  {
   "cell_type": "code",
   "execution_count": 24,
   "id": "92db1714",
   "metadata": {},
   "outputs": [
    {
     "name": "stdout",
     "output_type": "stream",
     "text": [
      "[1 2 3 4 5 6 7 8 9]\n",
      "[1 2 3 4 5]\n"
     ]
    }
   ],
   "source": [
    "print(arr)\n",
    "print(arr[0:5])"
   ]
  },
  {
   "cell_type": "markdown",
   "id": "25c69368",
   "metadata": {},
   "source": [
    "## Negative indices"
   ]
  },
  {
   "cell_type": "markdown",
   "id": "430c223a",
   "metadata": {},
   "source": [
    "####  Negative indices always start from last element of n-d \n",
    "#### array i.e -1st index is last element of ndarray"
   ]
  },
  {
   "cell_type": "code",
   "execution_count": 25,
   "id": "6e8805fc",
   "metadata": {},
   "outputs": [
    {
     "name": "stdout",
     "output_type": "stream",
     "text": [
      "[1 2 3 4 5 6 7 8 9]\n"
     ]
    }
   ],
   "source": [
    "print(arr)"
   ]
  },
  {
   "cell_type": "code",
   "execution_count": 26,
   "id": "432a35f7",
   "metadata": {},
   "outputs": [
    {
     "name": "stdout",
     "output_type": "stream",
     "text": [
      "9\n",
      "5\n",
      "1\n"
     ]
    }
   ],
   "source": [
    "print(arr[-1])\n",
    "print(arr[-5])\n",
    "print(arr[-9])"
   ]
  },
  {
   "cell_type": "code",
   "execution_count": 27,
   "id": "659c4bf7",
   "metadata": {},
   "outputs": [
    {
     "name": "stdout",
     "output_type": "stream",
     "text": [
      "[1 2 3 4 5 6 7 8 9]\n",
      "[1 3 5 7 9]\n"
     ]
    }
   ],
   "source": [
    "# step value in slincing a numpy array\n",
    "# here step is 2 \n",
    "print(arr)\n",
    "print(arr[0:9:2])"
   ]
  },
  {
   "cell_type": "code",
   "execution_count": 28,
   "id": "15b2a48e",
   "metadata": {},
   "outputs": [
    {
     "name": "stdout",
     "output_type": "stream",
     "text": [
      "[1 3 5 7 9]\n",
      "[1 3 5]\n"
     ]
    }
   ],
   "source": [
    "print(arr[::2]) # ::2 >> 0 to 9 index by step index 2\n",
    "print(arr[0:6:2]) # 0:6:2 >> 0 to 6 index by step value 2\n"
   ]
  },
  {
   "cell_type": "markdown",
   "id": "2d4a717d",
   "metadata": {},
   "source": [
    "### Slincing of 2D Array"
   ]
  },
  {
   "cell_type": "code",
   "execution_count": 29,
   "id": "3164f297",
   "metadata": {},
   "outputs": [
    {
     "name": "stdout",
     "output_type": "stream",
     "text": [
      "[[ 1  2  3  4  5]\n",
      " [ 6  7  8  9 10]]\n",
      "\n",
      "\n",
      "8\n",
      "[7 8 9]\n",
      "[2 3 4]\n"
     ]
    }
   ],
   "source": [
    "arr = np .array([[1,2,3,4,5],[6,7,8,9,10]])\n",
    "\n",
    "print (arr)\n",
    "print('\\n')\n",
    "print(arr[1,2])\n",
    "print(arr[1,1:4]) # arr\n",
    "print(arr[0,1:4])"
   ]
  },
  {
   "cell_type": "code",
   "execution_count": 30,
   "id": "f50553d1",
   "metadata": {},
   "outputs": [
    {
     "name": "stdout",
     "output_type": "stream",
     "text": [
      "[[ 1  2  3  4  5]\n",
      " [ 6  7  8  9 10]]\n"
     ]
    }
   ],
   "source": [
    "print(arr)"
   ]
  },
  {
   "cell_type": "code",
   "execution_count": 31,
   "id": "edc273c7",
   "metadata": {},
   "outputs": [
    {
     "data": {
      "text/plain": [
       "array([[3],\n",
       "       [8]])"
      ]
     },
     "execution_count": 31,
     "metadata": {},
     "output_type": "execute_result"
    }
   ],
   "source": [
    "arr[0:,2:3]"
   ]
  },
  {
   "cell_type": "code",
   "execution_count": 32,
   "id": "4e23a399",
   "metadata": {},
   "outputs": [
    {
     "data": {
      "text/plain": [
       "array([[1, 2, 3],\n",
       "       [6, 7, 8]])"
      ]
     },
     "execution_count": 32,
     "metadata": {},
     "output_type": "execute_result"
    }
   ],
   "source": [
    "arr[0:,:3]"
   ]
  },
  {
   "cell_type": "code",
   "execution_count": 33,
   "id": "136bc9c8",
   "metadata": {},
   "outputs": [
    {
     "data": {
      "text/plain": [
       "array([1, 2, 3])"
      ]
     },
     "execution_count": 33,
     "metadata": {},
     "output_type": "execute_result"
    }
   ],
   "source": [
    "arr[0,:3]"
   ]
  },
  {
   "cell_type": "code",
   "execution_count": 34,
   "id": "9510e7f8",
   "metadata": {},
   "outputs": [
    {
     "name": "stdout",
     "output_type": "stream",
     "text": [
      "[[1 2 3]]\n"
     ]
    }
   ],
   "source": [
    "print(arr[0:1,0:3])  # arr[location index from to,element index]\n"
   ]
  },
  {
   "cell_type": "code",
   "execution_count": 35,
   "id": "f0dbb181",
   "metadata": {},
   "outputs": [
    {
     "name": "stdout",
     "output_type": "stream",
     "text": [
      "[3 8]\n"
     ]
    }
   ],
   "source": [
    "print(arr[0:2,2])"
   ]
  },
  {
   "cell_type": "code",
   "execution_count": 36,
   "id": "f66ca599",
   "metadata": {},
   "outputs": [
    {
     "name": "stdout",
     "output_type": "stream",
     "text": [
      "[[ 1  2  3  4  5]\n",
      " [10 20 30 40 50]\n",
      " [11 22 33 44 55]]\n",
      "15 (3, 5)\n"
     ]
    }
   ],
   "source": [
    "arr = np.array([[1,2,3,4,5],[10,20,30,40,50],[11,22,33,44,55]])\n",
    "print(arr)\n",
    "print(arr.size,arr.shape)"
   ]
  },
  {
   "cell_type": "code",
   "execution_count": 37,
   "id": "36c4b24b",
   "metadata": {},
   "outputs": [
    {
     "name": "stdout",
     "output_type": "stream",
     "text": [
      "[[ 2  3]\n",
      " [20 30]]\n",
      "\n",
      "\n",
      "[[20 30 40]\n",
      " [22 33 44]]\n"
     ]
    }
   ],
   "source": [
    "# 2, 3 \n",
    "# 20,30\n",
    "print(arr[0:2,1:3])\n",
    "\n",
    "print('\\n')\n",
    "\n",
    "# 20,30,40\n",
    "# 22,33,44\n",
    "\n",
    "print(arr[1:,1:4])"
   ]
  },
  {
   "cell_type": "markdown",
   "id": "d27f0d57",
   "metadata": {},
   "source": [
    "## Slicing of 3D array"
   ]
  },
  {
   "cell_type": "code",
   "execution_count": 38,
   "id": "3d92da26",
   "metadata": {},
   "outputs": [
    {
     "name": "stdout",
     "output_type": "stream",
     "text": [
      "[[[ 1  2  3]\n",
      "  [ 5  6  7]]\n",
      "\n",
      " [[11 22 33]\n",
      "  [55 66 77]]]\n",
      "3\n"
     ]
    }
   ],
   "source": [
    "arr   = np.array([[[1,2,3],[5,6,7]],[[11,22,33],[55,66,77]]])\n",
    "print(arr)\n",
    "print(arr.ndim)"
   ]
  },
  {
   "cell_type": "code",
   "execution_count": 39,
   "id": "af406f5d",
   "metadata": {},
   "outputs": [
    {
     "data": {
      "text/plain": [
       "array([6, 7])"
      ]
     },
     "execution_count": 39,
     "metadata": {},
     "output_type": "execute_result"
    }
   ],
   "source": [
    "arr[0][1][1:3] # [array location, array row location, array ]"
   ]
  },
  {
   "cell_type": "code",
   "execution_count": 40,
   "id": "af6647f3",
   "metadata": {},
   "outputs": [
    {
     "data": {
      "text/plain": [
       "array([55, 66])"
      ]
     },
     "execution_count": 40,
     "metadata": {},
     "output_type": "execute_result"
    }
   ],
   "source": [
    "arr[1,1,0:2]"
   ]
  },
  {
   "cell_type": "code",
   "execution_count": 41,
   "id": "e58af1f8",
   "metadata": {},
   "outputs": [
    {
     "data": {
      "text/plain": [
       "array([66, 77])"
      ]
     },
     "execution_count": 41,
     "metadata": {},
     "output_type": "execute_result"
    }
   ],
   "source": [
    "arr[1][1][1:3]"
   ]
  },
  {
   "cell_type": "markdown",
   "id": "82201965",
   "metadata": {},
   "source": [
    "# Data types in Numpy"
   ]
  },
  {
   "cell_type": "markdown",
   "id": "e3a96f5a",
   "metadata": {},
   "source": [
    "# list of all data types in numpy"
   ]
  },
  {
   "cell_type": "code",
   "execution_count": 42,
   "id": "72444517",
   "metadata": {},
   "outputs": [
    {
     "ename": "SyntaxError",
     "evalue": "invalid syntax (1226495924.py, line 3)",
     "output_type": "error",
     "traceback": [
      "\u001b[1;36m  Cell \u001b[1;32mIn [42], line 3\u001b[1;36m\u001b[0m\n\u001b[1;33m    unit - unsigned intger\u001b[0m\n\u001b[1;37m                    ^\u001b[0m\n\u001b[1;31mSyntaxError\u001b[0m\u001b[1;31m:\u001b[0m invalid syntax\n"
     ]
    }
   ],
   "source": [
    "i/Int -integer\n",
    "Bool - boilean \n",
    "unit - unsigned intger \n",
    "f/Float - Complex Float\n",
    "string - string\n",
    "m - datatime\n",
    "m - timedelta\n",
    "o - object \n",
    "U - unicode string"
   ]
  },
  {
   "cell_type": "code",
   "execution_count": null,
   "id": "30448cb6",
   "metadata": {},
   "outputs": [],
   "source": [
    "import numpy as np\n"
   ]
  },
  {
   "cell_type": "code",
   "execution_count": null,
   "id": "dfcd0c73",
   "metadata": {},
   "outputs": [],
   "source": [
    "# dype \n",
    "\n",
    "arr = np.array ([1,2,3,4])\n",
    "print(arr.dtype)"
   ]
  },
  {
   "cell_type": "code",
   "execution_count": null,
   "id": "26382e21",
   "metadata": {},
   "outputs": [],
   "source": [
    "arr = np. array(['apple','banana','cherry'])\n",
    "print(arr.dtype)"
   ]
  },
  {
   "cell_type": "code",
   "execution_count": null,
   "id": "19d05281",
   "metadata": {},
   "outputs": [],
   "source": [
    "# creating arrays with a defined data type\n",
    "\n",
    "arr = np.array([1,2,3,4],dtype=str)\n",
    "print(arr)\n",
    "print(arr.dtype)"
   ]
  },
  {
   "cell_type": "code",
   "execution_count": null,
   "id": "5fa06d29",
   "metadata": {},
   "outputs": [],
   "source": [
    "arr = np.array([1,2,3,4],dtype='i')  #int\n",
    "print(arr)\n",
    "print(arr.dtype)"
   ]
  },
  {
   "cell_type": "code",
   "execution_count": null,
   "id": "f24b37c3",
   "metadata": {},
   "outputs": [],
   "source": [
    "arr = np.array([1,2,3,4,5,6],dtype='f')\n",
    "print(arr)\n",
    "print(arr.dtype)"
   ]
  },
  {
   "cell_type": "code",
   "execution_count": null,
   "id": "400bfbf1",
   "metadata": {},
   "outputs": [],
   "source": [
    "arr= np.array([1,2,3,4,5,6],dtype='float')\n",
    "print(arr)\n",
    "print(arr.dtype)"
   ]
  },
  {
   "cell_type": "code",
   "execution_count": null,
   "id": "01d4c219",
   "metadata": {},
   "outputs": [],
   "source": [
    "# int with 4 byts\n",
    "\n",
    "arr = np.array([1,2,3,4],dtype='i')\n",
    "print(arr)\n",
    "print(arr.dtype)\n",
    "\n",
    "print('*'*100)\n",
    "\n",
    "arr = np.array([1,2,3,4],dtype='i')\n",
    "print(arr)\n",
    "print(arr.dtype)"
   ]
  },
  {
   "cell_type": "code",
   "execution_count": null,
   "id": "df64f816",
   "metadata": {},
   "outputs": [],
   "source": [
    "# in python we are not responsible for memory management PVM is responsible for memory management"
   ]
  },
  {
   "cell_type": "markdown",
   "id": "3f23ef50",
   "metadata": {},
   "source": []
  },
  {
   "cell_type": "code",
   "execution_count": null,
   "id": "87370531",
   "metadata": {},
   "outputs": [],
   "source": [
    "arr = np .array(['1','2','3'],dtype='i')\n",
    "print(arr)"
   ]
  },
  {
   "cell_type": "markdown",
   "id": "0ecbd64e",
   "metadata": {},
   "source": [
    "## Data Type Conversion"
   ]
  },
  {
   "cell_type": "code",
   "execution_count": null,
   "id": "6dbef024",
   "metadata": {},
   "outputs": [],
   "source": [
    "# float to int\n",
    "\n",
    "arr = np.array([1.1,2.2,3.3,4.4])\n",
    "print('old array :',arr)\n",
    "print('old array data type :', arr.dtype)\n",
    "print('*'*100)\n",
    "new_arr = arr.astype('i')\n",
    "print('new array',new_arr)\n",
    "print('new array data type :',new_arr.dtype)\n"
   ]
  },
  {
   "cell_type": "code",
   "execution_count": null,
   "id": "b1a82d75",
   "metadata": {},
   "outputs": [],
   "source": [
    "# int to bool \n",
    "arr = np.array([1,2,3,4,0])\n",
    "print('old array:',arr)\n",
    "print('old array data type:',arr.dtype)\n",
    "print('*'*100)\n",
    "new_arr = arr.astype (bool)\n",
    "print('new array',new_arr)\n",
    "print('new array data type:',new_arr.dtype)"
   ]
  },
  {
   "cell_type": "markdown",
   "id": "41f3bc60",
   "metadata": {},
   "source": [
    "## Differance between copy and view"
   ]
  },
  {
   "cell_type": "markdown",
   "id": "69d46f68",
   "metadata": {},
   "source": [
    "## Copy :\n",
    "#### A copy is a new array that has the same data as the original array.changes made to the copy do not affect the original array, and vice versa\n",
    "\n",
    "\n",
    "## View :\n",
    "#### A view is a new array that refers to the same data as the orinal array. changes made to the view affect the original array , and vice versa\n"
   ]
  },
  {
   "cell_type": "code",
   "execution_count": null,
   "id": "25c5ae0d",
   "metadata": {},
   "outputs": [],
   "source": [
    "a = np.array([1,2,3,4,5])\n",
    "print('original array:',a)\n",
    "b=a.copy()\n",
    "print('copid array:',b)\n",
    "print('now we will update the original array \"1 to 100\"')\n",
    "a[0]=100\n",
    "print('original array after update :',a)\n",
    "print('copied array after update in original:',b)"
   ]
  },
  {
   "cell_type": "code",
   "execution_count": null,
   "id": "ab9fefb7",
   "metadata": {},
   "outputs": [],
   "source": [
    "a=np.array([1,2,3,4,5])\n",
    "print('original array:',a)\n",
    "b=a .view()\n",
    "print('copied array :',a)\n",
    "print('now we will update the original array \"1 to 100\"')\n",
    "a[0]=100\n",
    "\n",
    "print('original array after update :',a)\n",
    "print('copied array after update in original :',b)\n"
   ]
  },
  {
   "cell_type": "code",
   "execution_count": null,
   "id": "d9d7400e",
   "metadata": {},
   "outputs": [],
   "source": [
    "# copy : it is going to creat new instance fpr ypur value\n",
    "\n",
    "arr = np .array([1,2,3,4,5])\n",
    "x = arr.copy()# separat object required \n",
    "arr[0]= 42 # updated arr 0 th index\n",
    "\n",
    "print (arr )\n",
    "print(x)"
   ]
  },
  {
   "cell_type": "code",
   "execution_count": null,
   "id": "a98bc8dd",
   "metadata": {},
   "outputs": [],
   "source": [
    "arr = np.array ([1,2,3,4,5,6])\n",
    "x = arr.copy()# separat object required\n",
    "print(x)\n",
    "x[0] = 100\n",
    "print(x)\n",
    "\n",
    "print(arr)\n",
    "#print(x)"
   ]
  },
  {
   "cell_type": "code",
   "execution_count": null,
   "id": "6ef951a5",
   "metadata": {},
   "outputs": [],
   "source": [
    "# view \n",
    "\n",
    "arr = np.array([1,2,3,4,5])\n",
    "x = arr.view ()\n",
    "\n",
    "#x = arr \n",
    "x[0] = 200\n",
    "print(x)\n",
    "print(x)"
   ]
  },
  {
   "cell_type": "code",
   "execution_count": null,
   "id": "632914df",
   "metadata": {},
   "outputs": [],
   "source": [
    "a = np.array ([1,2,3])\n",
    "b = a.view()\n",
    "b[0]=4\n",
    "\n",
    "\n",
    "print(a)# output : [4,2,3]\n",
    "print(b)# output: [4,2,3]"
   ]
  },
  {
   "cell_type": "markdown",
   "id": "44995317",
   "metadata": {},
   "source": [
    "### Base concept : how to identify copy or  view"
   ]
  },
  {
   "cell_type": "markdown",
   "id": "6733fa18",
   "metadata": {},
   "source": [
    "#### That will possible  by using \"base\" fuction\n",
    "if you are referring to identifying whether a numpy array is a copy or a view (a differant view of the same data) , you can use the base attribute of the array.the base attribute returns none for arrays that own their data and it returns the base object forrrrrrr arrays that are views"
   ]
  },
  {
   "cell_type": "code",
   "execution_count": null,
   "id": "a81b2ce5",
   "metadata": {},
   "outputs": [],
   "source": [
    "arr = np .array([1,2,3,4,5])\n",
    "\n",
    "x = arr.copy()\n",
    "y = arr .view()\n",
    "\n",
    "print(x.base )\n",
    "print(y.base)"
   ]
  },
  {
   "cell_type": "markdown",
   "id": "7518b790",
   "metadata": {},
   "source": [
    "## Numpy Array Reshaping "
   ]
  },
  {
   "cell_type": "code",
   "execution_count": null,
   "id": "ed4ad8a9",
   "metadata": {},
   "outputs": [],
   "source": [
    "arr = np.array ([1,2,3,4,5,6,7,8,9,10,11,12])\n",
    "\n",
    "print(arr.shape)\n",
    "print(arr.shape)\n",
    "print('\\n')\n",
    "newarr=arr.reshape(12,1)\n",
    "print(newarr)\n",
    "                "
   ]
  },
  {
   "cell_type": "code",
   "execution_count": null,
   "id": "efc75ce1",
   "metadata": {},
   "outputs": [],
   "source": [
    "print(arr)"
   ]
  },
  {
   "cell_type": "code",
   "execution_count": null,
   "id": "578a9f88",
   "metadata": {},
   "outputs": [],
   "source": [
    "arr = np.array([1,2,3,4,5,6,7,8,9,10,11,12])\n",
    "\n",
    "print(arr.size)\n",
    "print(arr.shape)\n",
    "print('\\n')\n",
    "newarr=arr.reshape(3,2,2)\n",
    "print(newarr)"
   ]
  },
  {
   "cell_type": "code",
   "execution_count": null,
   "id": "3b35df36",
   "metadata": {},
   "outputs": [],
   "source": [
    "arr = np.array([1,2,3,4,5,6,7,8,9,10,11,12])\n",
    "newarr = arr.reshape(2,2,3)\n",
    "print(newarr)"
   ]
  },
  {
   "cell_type": "code",
   "execution_count": null,
   "id": "42723fe9",
   "metadata": {},
   "outputs": [],
   "source": [
    "# creat a 2D array and then covert it into 1D array\n",
    "\n",
    "arr = np.array([[11,44,77,88,99,55]])\n",
    "newarr=arr.reshape(6,)\n",
    "print(arr)\n",
    "print(arr.ndim)\n",
    "print('*'*100)\n",
    "print(newarr)\n",
    "print(newarr.ndim)"
   ]
  },
  {
   "cell_type": "code",
   "execution_count": null,
   "id": "868a1243",
   "metadata": {},
   "outputs": [],
   "source": [
    "arr = np.array([[11,44,77],[88,99,55]])\n",
    "newarr = arr.reshape(6,)\n",
    "print(arr)\n",
    "print(arr.ndim)\n",
    "print('*'*100)\n",
    "print(newarr)\n",
    "print(newarr.ndim)"
   ]
  },
  {
   "cell_type": "code",
   "execution_count": null,
   "id": "730860f0",
   "metadata": {},
   "outputs": [],
   "source": [
    "arr = np.array([11,44,77,88,99,55])\n",
    "newarr = arr.reshape(3,2)\n",
    "print(arr)\n",
    "print(arr.ndim)\n",
    "print('*'*100)\n",
    "print(newarr)\n",
    "print(newarr.ndim)"
   ]
  },
  {
   "cell_type": "code",
   "execution_count": null,
   "id": "059e681c",
   "metadata": {},
   "outputs": [],
   "source": [
    "# cvert 3D array into 1D array\n",
    "arr = np.array([[[11,44,77,88,99,55]],[[111,441,717,188,919,515]]])\n",
    "newarr = arr.reshape(12,)\n",
    "print(arr)\n",
    "print(arr.ndim)\n",
    "print('*'*100)\n",
    "print(newarr)\n",
    "print(newarr.ndim)"
   ]
  },
  {
   "cell_type": "code",
   "execution_count": null,
   "id": "e407b27f",
   "metadata": {
    "scrolled": true
   },
   "outputs": [],
   "source": [
    "arr = np.array([11,44,77,88,99,55,111,441,717,188,919,515])\n",
    "newarr = arr.reshape(1,3,4)\n",
    "print(arr)\n",
    "print(arr.ndim)\n",
    "print('*'*100)\n",
    "print(newarr)\n",
    "print(newarr.ndim)"
   ]
  },
  {
   "cell_type": "code",
   "execution_count": null,
   "id": "cd9fa054",
   "metadata": {},
   "outputs": [],
   "source": [
    "import numpy as np\n"
   ]
  },
  {
   "cell_type": "code",
   "execution_count": null,
   "id": "46bf335e",
   "metadata": {},
   "outputs": [],
   "source": [
    "# convert 4D array into 1D array \n",
    "arr = np.array ([[[[11,44,77,88,99,55]]]])\n",
    "newarr = arr.reshape(6,)\n",
    "print(arr)\n",
    "print(arr.ndim)\n",
    "print('*'*100)\n",
    "print(newarr)\n",
    "print(newarr.ndim)\n"
   ]
  },
  {
   "cell_type": "code",
   "execution_count": null,
   "id": "73798437",
   "metadata": {},
   "outputs": [],
   "source": [
    "arr = np.array([11,44,77,88,99,55])\n",
    "newarr = arr.reshape((3,2))\n",
    "print(arr)\n",
    "print(arr.ndim)\n",
    "print('*'*100)\n",
    "print(newarr)\n",
    "print(newarr.ndim)"
   ]
  },
  {
   "cell_type": "markdown",
   "id": "3f14eeb1",
   "metadata": {},
   "source": [
    "## Numpy Array Reshape Flatten Unknown Dimention"
   ]
  },
  {
   "cell_type": "markdown",
   "id": "e1011af7",
   "metadata": {},
   "source": [
    "#### if user dont know any one dimention out 3 dimention then numpy can obtain it for user have mention the _1 for thaat dim"
   ]
  },
  {
   "cell_type": "code",
   "execution_count": null,
   "id": "7792cfd7",
   "metadata": {},
   "outputs": [],
   "source": [
    "# unkown Dimention \n",
    "arr = np.array ([1,2,3,4,5,6,7,8,9])\n",
    "\n",
    "newarr = arr.reshape(3,3,-1)\n",
    "print(newarr)"
   ]
  },
  {
   "cell_type": "markdown",
   "id": "e8437c8e",
   "metadata": {},
   "source": [
    "#### if u want to a 1-D  Araay using N-D array "
   ]
  },
  {
   "cell_type": "code",
   "execution_count": null,
   "id": "89028af1",
   "metadata": {},
   "outputs": [],
   "source": [
    "# flattenting (reshshape/covrt in scalar vector) an array\n",
    "\n",
    "arr = np.array([[10,20,30],[40,50,60]])\n",
    "\n",
    "print(arr)\n",
    "print(arr.shape)\n",
    "\n",
    "newarr=arr.reshape(-1)\n",
    "print(newarr)"
   ]
  },
  {
   "cell_type": "markdown",
   "id": "8d0a618f",
   "metadata": {},
   "source": [
    "## Numpy Array Iterating"
   ]
  },
  {
   "cell_type": "markdown",
   "id": "49af6bee",
   "metadata": {},
   "source": [
    "### iterating means that you going each element of the array"
   ]
  },
  {
   "cell_type": "code",
   "execution_count": null,
   "id": "44462ba1",
   "metadata": {},
   "outputs": [],
   "source": [
    "# iterating on 2-D array \n",
    "arr = np.array ([[11,22,33],[10,20,30]])\n",
    "\n",
    "# print(arr)\n",
    "\n",
    "for x in arr: # x is taking elements here\n",
    "    print(x)"
   ]
  },
  {
   "cell_type": "code",
   "execution_count": null,
   "id": "a2fe51f7",
   "metadata": {},
   "outputs": [],
   "source": [
    "# interating on scalarelement of 2-D array\n",
    "\n",
    "arr = np.array([[1,2,3],[4,5,6]])\n",
    "for x in arr : # here x is hplding list of element\n",
    "    for i in x:\n",
    "        print(i)\n",
    "    "
   ]
  },
  {
   "cell_type": "code",
   "execution_count": null,
   "id": "3064738d",
   "metadata": {},
   "outputs": [],
   "source": [
    "#iterating on scalar elememntof 3-D array\n",
    "\n",
    "arr = np.array([[[1,2,3,],[4,5,6]],[[7,8,9],[10,11,12]]])\n",
    "for x in arr : \n",
    "#    print(x,'\\n')\n",
    "    for i in x:\n",
    "        for j in i :\n",
    "            print(j,'\\n')"
   ]
  },
  {
   "cell_type": "markdown",
   "id": "cab7c226",
   "metadata": {},
   "source": [
    "### using nditer()"
   ]
  },
  {
   "cell_type": "code",
   "execution_count": null,
   "id": "c3d8d47c",
   "metadata": {},
   "outputs": [],
   "source": [
    "# iterating on 3-D array \n",
    "arr =np.array([[[1,2],[3,4]],[[5,6],[7,8]]])\n",
    "    \n",
    "y = np .nditer(arr)\n",
    "\n",
    "for x in y:\n",
    "        print(x)"
   ]
  },
  {
   "cell_type": "code",
   "execution_count": null,
   "id": "c555bbb6",
   "metadata": {},
   "outputs": [],
   "source": [
    "arr = np.array([[1,2,3,4],[88,88,3939,999]])\n",
    "\n",
    "print(np.nditer(arr))\n",
    "for i in np.nditer(arr):\n",
    "    print(i)"
   ]
  },
  {
   "cell_type": "raw",
   "id": "ecbdf48b",
   "metadata": {},
   "source": [
    "# Casting array eleemt from one type other data type \n",
    "\n",
    "# numpy can not at the movement for that we need t0oo go with \n",
    "\n",
    "arr = np.array([1,2,3])\n",
    "for x in np.nditer(ar,flags = ['buffered'],op_dtypes=['float']):\n",
    "    print('int to float',x)\n",
    "for x in np.nditer(arr,flags=['buffered'],op_dtypes=['U']):\n",
    "    print(x)\n",
    "for x in np.nditer(arr,flags=['buffered'],op_dtypes=['S']):\n",
    "    print(x)\n"
   ]
  },
  {
   "cell_type": "code",
   "execution_count": null,
   "id": "7bab34b8",
   "metadata": {},
   "outputs": [],
   "source": [
    "for i in np.nditer(arr,flags = ['buffered'],op_dtypes=[\"complex\"]):\n",
    "    print(i)"
   ]
  },
  {
   "cell_type": "code",
   "execution_count": null,
   "id": "7e72fcc3",
   "metadata": {},
   "outputs": [],
   "source": [
    "#  slicing of an numpy array in interations \n",
    "# 2d  array \n",
    "\n",
    "arr = np.array([[1,2,3,4],[5,6,7,8]])\n",
    "\n",
    "for x in np.nditer(arr[0:,0:3:2]):# [array location , index number]\n",
    "    print(x)"
   ]
  },
  {
   "cell_type": "code",
   "execution_count": null,
   "id": "4e05418e",
   "metadata": {},
   "outputs": [],
   "source": [
    "# 3d array\n",
    "# array [start:end:step , start:end:step, start:end :step]\n",
    "\n",
    "arr = np.array([[[1,2,3],[11,22,33]],[[4,5,6],[44,55,66]]])\n",
    "for i in np.nditer(arr[1:,1:,1:2]):\n",
    "    print(i)"
   ]
  },
  {
   "cell_type": "code",
   "execution_count": null,
   "id": "b4260f5c",
   "metadata": {},
   "outputs": [],
   "source": [
    "array_3d = np.array([\n",
    "    [[1,2,3],[4,5,6]],\n",
    "    [[7,8,9],[10,11,12]]\n",
    "])\n",
    "\n",
    "# slice the array along the sirst dimention \n",
    "for i in np.nditer(array_3d[:,:,:]):\n",
    "    print(i)"
   ]
  },
  {
   "cell_type": "code",
   "execution_count": null,
   "id": "46275c89",
   "metadata": {},
   "outputs": [],
   "source": [
    "array_3d = np .array([\n",
    "    [[1,2,3],[4,5,6]],\n",
    "    [[7,8,9],[10,11,12]]\n",
    "])\n",
    "\n",
    "# slice the array with a step size of 2 along thee first dimention\n",
    "for i in np.nditer(array_3d[:,::,::2]):\n",
    "    print(i)"
   ]
  },
  {
   "cell_type": "markdown",
   "id": "c1454347",
   "metadata": {},
   "source": [
    "### 2.using ndenumerate()"
   ]
  },
  {
   "cell_type": "markdown",
   "id": "fd3b2c72",
   "metadata": {},
   "source": [
    "enumeration means mentioing sequence number of something one by one \n",
    "\n",
    "Whenever we want to acess any location of element in multi dimentional arrays that time we can use \"\"ndenumerate\"\n",
    "\n",
    "this method always return tuple of index and element"
   ]
  },
  {
   "cell_type": "code",
   "execution_count": null,
   "id": "ca6226a1",
   "metadata": {},
   "outputs": [],
   "source": [
    "arr = np.array([1,2,3])\n",
    "\n",
    "for x in np.ndenumerate(arr):\n",
    "    print(x)\n",
    "    \n",
    "print('*'*100)\n",
    "\n",
    "for i,x in np.ndenumerate(arr):\n",
    "    print(\"index :, \",i,\"value\",x)"
   ]
  },
  {
   "cell_type": "code",
   "execution_count": null,
   "id": "2ba1dcb5",
   "metadata": {},
   "outputs": [],
   "source": [
    "# 2D array\n",
    "arr = np.array ([[1,2,3,4],[5,6,7,8]])\n",
    "\n",
    "print(arr)\n",
    "\n",
    "for i,val in np.ndenumerate(arr):\n",
    "    print(\"Index :\",i,\"value\",val)"
   ]
  },
  {
   "cell_type": "markdown",
   "id": "9ddcec05",
   "metadata": {},
   "source": [
    "## joining Array\n"
   ]
  },
  {
   "cell_type": "markdown",
   "id": "8f1afc49",
   "metadata": {},
   "source": [
    "##### while joining array we should remember \"both arrays should have same dimention\""
   ]
  },
  {
   "cell_type": "markdown",
   "id": "048adcad",
   "metadata": {},
   "source": [
    "#### using concatenation"
   ]
  },
  {
   "cell_type": "code",
   "execution_count": null,
   "id": "01e0dff3",
   "metadata": {},
   "outputs": [],
   "source": [
    "arr1=np.array([1,2,3])\n",
    "arr2=np.array([4,5,6])\n",
    "\n",
    "arr=np.concatenate((arr1,arr2))\n",
    "print(arr)"
   ]
  },
  {
   "cell_type": "code",
   "execution_count": null,
   "id": "2f5aca64",
   "metadata": {},
   "outputs": [],
   "source": [
    "# array concatenate using axis option \n",
    "\n",
    "#axis =0 : it represents rows (defaults)\n",
    "# axis = 1 : it represent colomns\n",
    "\n",
    "arr1 = np.array([[1,2],[3,4]])\n",
    "arr2 = np.array([[5,6],[7,8]])\n",
    "\n",
    "\n",
    "arr = np.concatenate ((arr1,arr2),axis=0)# columnwise\n",
    "print(arr)\n",
    "\n",
    "print(\"*\"*100)\n",
    "\n",
    "\n",
    "arr = np.concatenate((arr1,arr2),axis=0)# rowwise\n",
    "print(arr)"
   ]
  },
  {
   "cell_type": "markdown",
   "id": "410dfbeb",
   "metadata": {},
   "source": [
    "### 2.using stack fuction \n",
    "\n",
    "stackin is same as concatenating , the only differance is that stacking is done along a new axis"
   ]
  },
  {
   "cell_type": "code",
   "execution_count": null,
   "id": "69a2f81d",
   "metadata": {},
   "outputs": [],
   "source": [
    "arr1 = np.array([1,2,3])\n",
    "arr2 = np.array([4,5,6])\n",
    "\n",
    "arr  = np.stack((arr1,arr2),axis=1)\n",
    "print(arr)\n",
    "\n",
    "print('*'*100)\n",
    "\n",
    "arr=np.stack((arr1,arr2),axis=0)\n",
    "print(arr)"
   ]
  },
  {
   "cell_type": "markdown",
   "id": "efa36c65",
   "metadata": {},
   "source": [
    "#### 2.1 using \"vstack function(\""
   ]
  },
  {
   "cell_type": "code",
   "execution_count": null,
   "id": "53481921",
   "metadata": {},
   "outputs": [],
   "source": [
    "arr1=np.array([1,2,3])\n",
    "arr2=np.array([4,5,6])\n",
    "\n",
    "arr = np.vstack((arr1,arr2))\n",
    "\n",
    "print(arr)"
   ]
  },
  {
   "cell_type": "markdown",
   "id": "910e0b47",
   "metadata": {},
   "source": [
    "#### 2.3 using \"dstack fuction()\""
   ]
  },
  {
   "cell_type": "code",
   "execution_count": null,
   "id": "3c41fc44",
   "metadata": {},
   "outputs": [],
   "source": [
    "arr1 = np.array([1,2,3])\n",
    "arr2 = np.array([4,5,6])\n",
    "\n",
    "arr = np.dstack((arr1,arr2))\n",
    "\n",
    "print(arr)"
   ]
  },
  {
   "cell_type": "code",
   "execution_count": null,
   "id": "eb19c3ad",
   "metadata": {},
   "outputs": [],
   "source": [
    "arr1 = np.array([[1,2,3],[11,22,33]])\n",
    "\n",
    "arr2 = np.array([[4,5,6],[44,55,66]])\n",
    "\n",
    "arr = np.dstack((arr1,arr2))\n",
    "\n",
    "# it stand for \"depth wise stack\" and is used stack arrays\n",
    "\n",
    "print(arr)"
   ]
  },
  {
   "cell_type": "markdown",
   "id": "a03eb7cf",
   "metadata": {},
   "source": [
    "### Spliting Array"
   ]
  },
  {
   "cell_type": "markdown",
   "id": "487ed08e",
   "metadata": {},
   "source": [
    "##### joining meres multiple arrays into ne and spltting\n",
    "breaks one array into multiple \n",
    "\n",
    "syntax:\n",
    "    \n",
    "np.arrays_split(array,no_split)\n",
    "np.split (array,no.split)"
   ]
  },
  {
   "cell_type": "code",
   "execution_count": null,
   "id": "6ce91541",
   "metadata": {},
   "outputs": [],
   "source": [
    "arr = np.array([1,2,3,4,5,6])\n",
    "print(arr)\n",
    "\n",
    "newarr = np.split(arr,3)\n",
    "print(newarr)\n",
    "\n",
    "print('*'*100)\n",
    "\n",
    "for i in newarr:\n",
    "    print (i)"
   ]
  },
  {
   "cell_type": "code",
   "execution_count": null,
   "id": "08949dfc",
   "metadata": {},
   "outputs": [],
   "source": [
    "# using axis \n",
    "\n",
    "arr = np.array([[1,2,3],\n",
    "               [4,5,6]])\n",
    "print(arr)\n",
    "newarr=np.split(arr,3,axis=1)\n",
    "print(newarr)\n",
    "\n",
    "print('*'*100)\n",
    "\n",
    "for i in newarr:\n",
    "    print(i)"
   ]
  },
  {
   "cell_type": "code",
   "execution_count": null,
   "id": "017ab3a0",
   "metadata": {},
   "outputs": [],
   "source": [
    "# using axis \n",
    "\n",
    "arr = np.array([[1,2,3],[4,5,6]])\n",
    "print(arr)\n",
    "\n",
    "newarr=np.split(arr,2,axis=0)\n",
    "print(newarr)\n",
    "\n",
    "print('*'*100)\n",
    "\n",
    "for i in newarr:\n",
    "    print(i)"
   ]
  },
  {
   "cell_type": "code",
   "execution_count": null,
   "id": "66b7d122",
   "metadata": {},
   "outputs": [],
   "source": [
    "arr = np.array([1,2,3,4,5,6])\n",
    "print(arr)\n",
    "newarr = np.split (arr,3)\n",
    "# newarr = np.split (arr,4)# this will raise an value error\n",
    "print(newarr)\n",
    "\n",
    "for i in newarr:\n",
    "    print(i)"
   ]
  },
  {
   "cell_type": "markdown",
   "id": "d075c003",
   "metadata": {},
   "source": [
    "2. array_split()"
   ]
  },
  {
   "cell_type": "markdown",
   "id": "2138e6bf",
   "metadata": {},
   "source": [
    "if no of ele,ment are less tan it adjust in last array\n",
    "\n",
    "it dones raise error this will adjust the element in array"
   ]
  },
  {
   "cell_type": "markdown",
   "id": "a47bc40b",
   "metadata": {},
   "source": []
  },
  {
   "cell_type": "code",
   "execution_count": null,
   "id": "09f22bd1",
   "metadata": {},
   "outputs": [],
   "source": [
    "arr = np.array([1,2,3,4,5,6])\n",
    "\n",
    "newarr = np.array_split(arr,2)\n",
    "print(newarr)"
   ]
  },
  {
   "cell_type": "code",
   "execution_count": null,
   "id": "7040f69e",
   "metadata": {},
   "outputs": [],
   "source": [
    "newarr= np.array_split(arr,3)\n",
    "print(newarr)"
   ]
  },
  {
   "cell_type": "code",
   "execution_count": null,
   "id": "461e15ad",
   "metadata": {},
   "outputs": [],
   "source": [
    "newarr = np.array_split(arr,5)\n",
    "print(newarr)\n",
    "\n",
    "print('*'*100)\n",
    "\n",
    "print(newarr[1])"
   ]
  },
  {
   "cell_type": "code",
   "execution_count": null,
   "id": "40efc244",
   "metadata": {},
   "outputs": [],
   "source": [
    "# splitg on 2-D array \n",
    "\n",
    "arr = np.array([[1,2],[3,4],[5,6],[7,8],[9,10],[11,12]])\n",
    "newarr=np.array_split(arr,3)\n",
    "print(newarr)"
   ]
  },
  {
   "cell_type": "code",
   "execution_count": null,
   "id": "fa7d8f30",
   "metadata": {},
   "outputs": [],
   "source": [
    "arr=np.array([[1,2],\n",
    "        [3,4],\n",
    "        [5,6],\n",
    "        [7,8],\n",
    "        [9,10],\n",
    "        [11,12]])\n",
    "       \n",
    "newarr =np.array_split(arr,2,axis=1)\n",
    "print(newarr)\n",
    "       "
   ]
  },
  {
   "cell_type": "code",
   "execution_count": null,
   "id": "a6f11c9c",
   "metadata": {},
   "outputs": [],
   "source": [
    "arr = np.array([[1,2],[3,4],[5,6],[7,8],[9,10],[11,12]])\n",
    "\n",
    "newarr=np.array_split(arr,4,axis=0)\n",
    "\n",
    "for i in newarr:\n",
    "    print(i,'\\n')"
   ]
  },
  {
   "cell_type": "code",
   "execution_count": null,
   "id": "ee2c772c",
   "metadata": {},
   "outputs": [],
   "source": [
    "arr=np.array([[1,2],[3,4],[5,6],[7,8],[9,10],[11,12]])\n",
    "newarr=np.array_split(arr,2,axis=1)\n",
    "\n",
    "for i in newarr:\n",
    "    print(i,'\\n')"
   ]
  },
  {
   "cell_type": "code",
   "execution_count": null,
   "id": "27bc442a",
   "metadata": {},
   "outputs": [],
   "source": [
    "# Array splitting on axis\n",
    "arr = np.array([[1, 2, 3], \n",
    "                [4, 5, 6], \n",
    "                [7, 8, 9], \n",
    "                [10, 11, 12], \n",
    "                [13, 14, 15], \n",
    "                [16, 17, 18]])\n",
    "\n",
    "# print(arr)\n",
    "\n",
    "newarr = np.array_split(arr, 3, axis=1)\n",
    "\n",
    "print(newarr) \n",
    "\n",
    "print('*'*100)\n",
    "print(arr,'\\n')\n",
    "newarr = np.array_split(arr, 3, axis=0)\n",
    "\n",
    "print(newarr)"
   ]
  },
  {
   "cell_type": "markdown",
   "id": "9c71e777",
   "metadata": {},
   "source": [
    "#### 3. Using hsplit()opposite of h stack()"
   ]
  },
  {
   "cell_type": "code",
   "execution_count": null,
   "id": "77debff5",
   "metadata": {},
   "outputs": [],
   "source": [
    "arr = np.array([[1,2,3],[4,5,6],[7,8,9],[10,11,12],\n",
    "                [13,14,15],[16,17,18]])\n",
    "\n",
    "print(arr,'\\n')\n",
    "print('hstack(methos:\\n')\n",
    "newarr = np.hstack(arr)\n",
    "print(newarr,'\\n')\n",
    "newarr = np.hsplit(arr, 3)\n",
    "# print(arr.shape)\n",
    "print('hsplit() method:\\n')\n",
    "print(newarr)"
   ]
  },
  {
   "cell_type": "markdown",
   "id": "39bae158",
   "metadata": {},
   "source": [
    "###  Searching Arrays"
   ]
  },
  {
   "cell_type": "markdown",
   "id": "59883f98",
   "metadata": {},
   "source": [
    "### The \"where\" method is used for searching the array"
   ]
  },
  {
   "cell_type": "markdown",
   "id": "957dad18",
   "metadata": {},
   "source": [
    "#### 1. Where "
   ]
  },
  {
   "cell_type": "code",
   "execution_count": null,
   "id": "b9354ac5",
   "metadata": {},
   "outputs": [],
   "source": [
    "# finding element in 1-D array\n",
    "import numpy as np\n",
    "arr = np .array([1,2,3,4,5,4,5])\n",
    "x=np.where(arr==4)#element\n",
    "\n",
    "print(arr)\n",
    "print(\"Location of index:\",x)"
   ]
  },
  {
   "cell_type": "code",
   "execution_count": null,
   "id": "ce361f0e",
   "metadata": {},
   "outputs": [],
   "source": [
    "# Arthmatic opration an numpy array\n",
    "\n",
    "arr = np .array([[1,2,3],[4,5,6]])\n",
    "print(arr)\n",
    "\n",
    "print('\\nAddition:',arr+1) # one element added in every element \n",
    "print('\\nsubtractoion:',arr-1)\n",
    "print('\\nmultiplication:',arr*2)\n",
    "print('\\nDivision:',arr/2)\n"
   ]
  },
  {
   "cell_type": "code",
   "execution_count": null,
   "id": "a8e84673",
   "metadata": {},
   "outputs": [],
   "source": [
    "# find the location of even number in my numpy array\n",
    "arr = np.array([1,2,3,4,5,6,7,8])\n",
    "\n",
    "x = np.where(arr%2==0)\n",
    "\n",
    "print(arr)\n",
    "print(\"Even number array:\",x)"
   ]
  },
  {
   "cell_type": "code",
   "execution_count": null,
   "id": "910f2e56",
   "metadata": {},
   "outputs": [],
   "source": [
    "# find the location of odd number in numpy array \n",
    "\n",
    "arr=np.array([1,2,3,4,5,6,7,8,9,10,11])\n",
    "loc=np.where(arr%2==1)\n",
    "\n",
    "print('odd number location:',loc)"
   ]
  },
  {
   "cell_type": "markdown",
   "id": "d0af9e84",
   "metadata": {},
   "source": [
    "### Searchshorted()"
   ]
  },
  {
   "cell_type": "markdown",
   "id": "b4e5d899",
   "metadata": {},
   "source": [
    "#### Perform a binary searchin the array and returens the index where the specified value would be inserted to martiain the search order "
   ]
  },
  {
   "cell_type": "markdown",
   "id": "f2008025",
   "metadata": {},
   "source": [
    "##### this method does not insert elements , it just returns a location for element in the numpy array"
   ]
  },
  {
   "cell_type": "code",
   "execution_count": null,
   "id": "9202f116",
   "metadata": {},
   "outputs": [],
   "source": [
    "arr=np.array([5,7,8,9])\n",
    "\n",
    "loc=np.searchsorted(arr,7,side='left')# >>\n",
    "\n",
    "print(arr)\n",
    "print('location where element to be inserted',loc)\n"
   ]
  },
  {
   "cell_type": "code",
   "execution_count": null,
   "id": "ffb29981",
   "metadata": {},
   "outputs": [],
   "source": [
    "arr=np.array([5,7,8,9])\n",
    "\n",
    "loc = np.searchsorted(arr,7,side='right')\n",
    "print('location where element to be inserted',loc)"
   ]
  },
  {
   "cell_type": "code",
   "execution_count": null,
   "id": "f0598933",
   "metadata": {},
   "outputs": [],
   "source": [
    "arr=np.array([5,7,8,9])\n",
    "\n",
    "loc=np.searchsorted(arr,8.5,side ='right')\n",
    "\n",
    "print (arr)\n",
    "\n",
    "print('location where element to be inserted',loc)\n"
   ]
  },
  {
   "cell_type": "code",
   "execution_count": null,
   "id": "1dd37a0d",
   "metadata": {},
   "outputs": [],
   "source": [
    "# multiple values \n",
    "\n",
    "arr = np.array ([1,3,5,7])\n",
    "x=np.searchsorted(arr,[2,4,6])\n",
    "print('location where elemet to be inserted',x)"
   ]
  },
  {
   "cell_type": "markdown",
   "id": "39046089",
   "metadata": {},
   "source": [
    "### Sorting Arrays"
   ]
  },
  {
   "cell_type": "markdown",
   "id": "21fee8a3",
   "metadata": {},
   "source": [
    "### sorting means puting element in an ordered sequence like numric or alphabeticcal,ascending or descending \n",
    "\n",
    "### sort(), that will sort a specified array\n"
   ]
  },
  {
   "cell_type": "code",
   "execution_count": null,
   "id": "5a1a8594",
   "metadata": {},
   "outputs": [],
   "source": [
    "# sort () on numerical array \n",
    "\n",
    "arr = np.array([3,2,0,1])\n",
    "res=np.sort(arr)\n",
    "print(\"input array\",arr)\n",
    "print('Sorted Array',res)"
   ]
  },
  {
   "cell_type": "code",
   "execution_count": null,
   "id": "0039f5b1",
   "metadata": {},
   "outputs": [],
   "source": [
    "# sort () on string array\n",
    "\n",
    "arr = np.sort (arr)\n",
    "\n",
    "print('input array ',arr)\n",
    "print('sorted array',res)"
   ]
  },
  {
   "cell_type": "code",
   "execution_count": null,
   "id": "0f6d662b",
   "metadata": {},
   "outputs": [],
   "source": [
    "# sort() on string array\n",
    "arr = np.array(['banana', 'cherry', 'apple'])\n",
    "\n",
    "res = np.sort(arr)\n",
    "\n",
    "print('Input Array',arr)\n",
    "\n",
    "print('Sorted Array',res)"
   ]
  },
  {
   "cell_type": "code",
   "execution_count": null,
   "id": "d55c55b1",
   "metadata": {},
   "outputs": [],
   "source": [
    "# sort ()on 2d array\n",
    "\n",
    "arr = np.array([[3,2,4],[5,0,1]])\n",
    "res=np.sort(arr)\n",
    "\n",
    "print('input array:\\n',arr)\n",
    "print('sorted array:\\n',res)"
   ]
  },
  {
   "cell_type": "code",
   "execution_count": null,
   "id": "376312df",
   "metadata": {},
   "outputs": [],
   "source": [
    "# work an axis =0\n",
    "arr=np.array([[3,2,4],[5,0,1]])\n",
    "print(arr)\n",
    "\n",
    "\n",
    "# axis (axis=0)\n",
    "# which will result in a sorted 2d array where each column is \n",
    "\n",
    "print(\"sorting on 0 axis :\\n\",arr)\n",
    "res=np.sort(arr,axis=0)\n",
    "print(\"\\n\",res)\n",
    "\n",
    "# axis (axis=1)\n",
    "# which will in a sorted 2D array where each row is sort\n",
    "print(\"Sorting on 1axis:\\n\",arr)\n",
    "res=np.sort(arr,axis=1)\n",
    "print(\"\\n\",res)"
   ]
  },
  {
   "cell_type": "code",
   "execution_count": null,
   "id": "83bc22d9",
   "metadata": {},
   "outputs": [],
   "source": [
    "import numpy as np\n",
    "\n",
    "# Creat a 2d array\n",
    "a = np.array([[3,2,4],\n",
    "             [1,5,6],\n",
    "             [9,7,8]])\n",
    "\n",
    "# sort the rows of the array along axis 1\n",
    "sorted_array = np.sort(a,axis=1)\n",
    "print('\\n',sorted_array)\n",
    "#sort the column of the array alaong axis 0\n",
    "sorted_array=np.sort(a,axis=0)\n",
    "print('\\n',sorted_array)"
   ]
  },
  {
   "cell_type": "markdown",
   "id": "cd512437",
   "metadata": {},
   "source": [
    "## Filter Array"
   ]
  },
  {
   "cell_type": "markdown",
   "id": "d3d94edb",
   "metadata": {},
   "source": [
    "#### 1.Getting some elements out of an exiting array and creating a new array out them is called filtering\n",
    "\n",
    "#### 2. Numpy filter an array using boolean list \n",
    "\n",
    "#### 3. A boolean index list is a list booleans corresponding to indexes ain the array"
   ]
  },
  {
   "cell_type": "code",
   "execution_count": null,
   "id": "d3080670",
   "metadata": {},
   "outputs": [],
   "source": [
    "arr=np.array([1,2,3,4,5])\n",
    "x=[True,False,True,False,True]\n",
    "\n",
    "newarr =arr[x]\n",
    "print(newarr)"
   ]
  },
  {
   "cell_type": "code",
   "execution_count": null,
   "id": "67081ddb",
   "metadata": {},
   "outputs": [],
   "source": [
    "arr=np.array([1,2,3,4,5,6,7,8,9,10])\n",
    "print(arr)\n",
    "# creat an empty list\n",
    "index=[]\n",
    "\n",
    "# go through element in arr\n",
    "for element in arr:\n",
    "    # if the element is higher than 4,set the value to true,\n",
    "    if element>4:\n",
    "        index.append(True)\n",
    "    else:\n",
    "        index.append(False)\n",
    "        \n",
    "print(index)\n",
    "newarr=arr[index]\n",
    "print(newarr)"
   ]
  },
  {
   "cell_type": "code",
   "execution_count": null,
   "id": "de88adc0",
   "metadata": {},
   "outputs": [],
   "source": [
    "# print a last of even number from original list using array filter\n",
    "\n",
    "print(arr)\n",
    "\n",
    "index=[]\n",
    "# i % 2 == 0\n",
    "\n",
    "for i in arr:\n",
    "    if i %2 ==0:\n",
    "        index.append(True)\n",
    "    else:\n",
    "        index.append(False)\n",
    "        \n",
    "print(index)\n",
    "\n",
    "newarr = arr[index]\n",
    "print(newarr)"
   ]
  },
  {
   "cell_type": "code",
   "execution_count": null,
   "id": "cc738e10",
   "metadata": {},
   "outputs": [],
   "source": [
    "arr = np.array([11,223,45,8787,655,44,33,333,2,3,3,10])\n",
    "\n",
    "filter_arr=arr>100\n",
    "newarr = arr[filter_arr]\n",
    "\n",
    "print(filter_arr)\n",
    "print(newarr)"
   ]
  },
  {
   "cell_type": "markdown",
   "id": "613d9919",
   "metadata": {},
   "source": [
    "### Other NumPy Functions\n"
   ]
  },
  {
   "cell_type": "code",
   "execution_count": null,
   "id": "2f3167a7",
   "metadata": {},
   "outputs": [],
   "source": [
    "arr = np.arange(10)\n",
    "print(arr)"
   ]
  },
  {
   "cell_type": "code",
   "execution_count": null,
   "id": "e4523c96",
   "metadata": {},
   "outputs": [],
   "source": [
    "arr=np.arange(5,25)\n",
    "print(arr)"
   ]
  },
  {
   "cell_type": "code",
   "execution_count": null,
   "id": "09d20d98",
   "metadata": {},
   "outputs": [],
   "source": [
    "arr=np.arange(5,51,5)\n",
    "print(arr)"
   ]
  },
  {
   "cell_type": "markdown",
   "id": "81f45d38",
   "metadata": {},
   "source": [
    "## Reshape"
   ]
  },
  {
   "cell_type": "markdown",
   "id": "5927c7a4",
   "metadata": {},
   "source": [
    "###### np.reshape(input,(shape))\n",
    "###### array.reshape(shape)"
   ]
  },
  {
   "cell_type": "code",
   "execution_count": null,
   "id": "afaf8b5f",
   "metadata": {},
   "outputs": [],
   "source": [
    "## 1D to 2D conversion\n",
    "arr=np.arange(0,25)\n",
    "print(arr)\n",
    "# one way\n",
    "arr_2d=np.reshape(arr,(5,5))# or arr.reshape(5,5)\n",
    "print('\\n',arr_2d)\n"
   ]
  },
  {
   "cell_type": "code",
   "execution_count": null,
   "id": "b604b389",
   "metadata": {},
   "outputs": [],
   "source": [
    "arr =np.arange(0,25)\n",
    "print(arr)"
   ]
  },
  {
   "cell_type": "code",
   "execution_count": null,
   "id": "fb74fc5e",
   "metadata": {},
   "outputs": [],
   "source": [
    "arr = np.arange(0,25)\n",
    "print(arr)\n",
    "\n",
    "# anather way\n",
    "arr_2d=arr.reshape(1,5,5)\n",
    "print('\\n',arr_2d)\n"
   ]
  },
  {
   "cell_type": "code",
   "execution_count": null,
   "id": "903ab347",
   "metadata": {},
   "outputs": [],
   "source": [
    "arr_2d.min()"
   ]
  },
  {
   "cell_type": "markdown",
   "id": "35826f59",
   "metadata": {},
   "source": [
    "## 4.max()"
   ]
  },
  {
   "cell_type": "markdown",
   "id": "3a708bd7",
   "metadata": {},
   "source": [
    "#### The numpy.max()fuction is used to find the maximum value tin the arr array"
   ]
  },
  {
   "cell_type": "code",
   "execution_count": null,
   "id": "fcd7c5fe",
   "metadata": {},
   "outputs": [],
   "source": [
    "arr_2d.max()"
   ]
  },
  {
   "cell_type": "markdown",
   "id": "d1cfa77b",
   "metadata": {},
   "source": [
    "### 5. argmax()\n"
   ]
  },
  {
   "cell_type": "markdown",
   "id": "30965907",
   "metadata": {},
   "source": [
    "##### the numpy .argumax() function is used to find the index of the maximum "
   ]
  },
  {
   "cell_type": "code",
   "execution_count": null,
   "id": "0d44efc6",
   "metadata": {},
   "outputs": [],
   "source": []
  },
  {
   "cell_type": "code",
   "execution_count": null,
   "id": "40300694",
   "metadata": {},
   "outputs": [],
   "source": []
  },
  {
   "cell_type": "code",
   "execution_count": null,
   "id": "4289d216",
   "metadata": {},
   "outputs": [],
   "source": []
  },
  {
   "cell_type": "code",
   "execution_count": null,
   "id": "9daa381d",
   "metadata": {},
   "outputs": [],
   "source": []
  },
  {
   "cell_type": "code",
   "execution_count": null,
   "id": "ae5fe89b",
   "metadata": {},
   "outputs": [],
   "source": []
  },
  {
   "cell_type": "code",
   "execution_count": null,
   "id": "2af1a904",
   "metadata": {},
   "outputs": [],
   "source": []
  },
  {
   "cell_type": "code",
   "execution_count": null,
   "id": "ed29e6d7",
   "metadata": {},
   "outputs": [],
   "source": []
  },
  {
   "cell_type": "code",
   "execution_count": null,
   "id": "c07acff0",
   "metadata": {},
   "outputs": [],
   "source": []
  },
  {
   "cell_type": "code",
   "execution_count": null,
   "id": "1e9d0d13",
   "metadata": {},
   "outputs": [],
   "source": []
  },
  {
   "cell_type": "code",
   "execution_count": null,
   "id": "e84cec7c",
   "metadata": {},
   "outputs": [],
   "source": []
  },
  {
   "cell_type": "code",
   "execution_count": null,
   "id": "be36f9a6",
   "metadata": {},
   "outputs": [],
   "source": []
  },
  {
   "cell_type": "code",
   "execution_count": null,
   "id": "9e95a5d1",
   "metadata": {},
   "outputs": [],
   "source": []
  },
  {
   "cell_type": "code",
   "execution_count": null,
   "id": "0cd0c745",
   "metadata": {},
   "outputs": [],
   "source": []
  }
 ],
 "metadata": {
  "kernelspec": {
   "display_name": "Python 3 (ipykernel)",
   "language": "python",
   "name": "python3"
  },
  "language_info": {
   "codemirror_mode": {
    "name": "ipython",
    "version": 3
   },
   "file_extension": ".py",
   "mimetype": "text/x-python",
   "name": "python",
   "nbconvert_exporter": "python",
   "pygments_lexer": "ipython3",
   "version": "3.11.2"
  }
 },
 "nbformat": 4,
 "nbformat_minor": 5
}
