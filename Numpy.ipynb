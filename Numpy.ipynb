{
 "cells": [
  {
   "cell_type": "markdown",
   "id": "d850f54f",
   "metadata": {},
   "source": [
    "## Numerical Python End to End in Details\n"
   ]
  },
  {
   "cell_type": "markdown",
   "id": "e3955fe0",
   "metadata": {},
   "source": [
    "### Numpy"
   ]
  },
  {
   "cell_type": "markdown",
   "id": "be21ea58",
   "metadata": {},
   "source": [
    "#### Numpy is a Numerical python "
   ]
  },
  {
   "cell_type": "markdown",
   "id": "dc8ac43c",
   "metadata": {},
   "source": [
    "It is developed Travis oliphant in 2005"
   ]
  },
  {
   "cell_type": "markdown",
   "id": "56270166",
   "metadata": {},
   "source": [
    "Numpy  has function to work on linear algebra, fourier trasform, and matrices "
   ]
  },
  {
   "cell_type": "markdown",
   "id": "4c24e603",
   "metadata": {},
   "source": [
    "its basicaallly used to work with array,it can work with multidimentional array"
   ]
  },
  {
   "cell_type": "markdown",
   "id": "65a45e17",
   "metadata": {},
   "source": [
    "# Why\n"
   ]
  },
  {
   "cell_type": "markdown",
   "id": "8033597e",
   "metadata": {},
   "source": [
    "Numpy is built using python , and most of the which requires faster excution is developed \n",
    "using C or C++,so it is very fast in excution"
   ]
  },
  {
   "cell_type": "markdown",
   "id": "4ce95ab5",
   "metadata": {},
   "source": [
    "Numpy arrays are called as ndarray"
   ]
  },
  {
   "cell_type": "markdown",
   "id": "7b73784f",
   "metadata": {},
   "source": [
    "Numpy has 50X speed  as compared too python list"
   ]
  },
  {
   "cell_type": "markdown",
   "id": "4c8490e9",
   "metadata": {},
   "source": [
    "Numpy provides lots of functions which can be performed on large date"
   ]
  },
  {
   "cell_type": "markdown",
   "id": "79672551",
   "metadata": {},
   "source": [
    "Numpy gives faster response as compared to list as it stores numpy arrays at one continous location"
   ]
  },
  {
   "cell_type": "markdown",
   "id": "1d97303b",
   "metadata": {},
   "source": [
    "### Installation of Numpy"
   ]
  },
  {
   "cell_type": "markdown",
   "id": "33ea5bae",
   "metadata": {},
   "source": [
    "Go to terminal and use below command, without!\n",
    "\n",
    "! pip install numpy\n",
    "\n",
    "you can use other tools like  spyder or annaconda wnich comes\n",
    "with its installation"
   ]
  },
  {
   "cell_type": "code",
   "execution_count": 1,
   "id": "13d02f1a",
   "metadata": {},
   "outputs": [
    {
     "name": "stdout",
     "output_type": "stream",
     "text": [
      "numpy version is : 1.24.2\n",
      "[1, 2, 3, 4, 5, 6, 7]\n",
      "<class 'type'>\n",
      "[1 2 3 4 5 6 7]\n",
      "<class 'numpy.ndarray'>\n"
     ]
    }
   ],
   "source": [
    "#create a numpy array using list\n",
    "\n",
    "import numpy as np\n",
    "\n",
    "print(\"numpy version is :\",np.__version__)\n",
    "\n",
    "list1 = [1,2,3,4,5,6,7]\n",
    "print(list1)\n",
    "print(type(list))\n",
    "x = np.array(list1)\n",
    "print(x)\n",
    "print(type(x))"
   ]
  },
  {
   "cell_type": "code",
   "execution_count": 2,
   "id": "e4600045",
   "metadata": {},
   "outputs": [
    {
     "name": "stdout",
     "output_type": "stream",
     "text": [
      "[1 2 3 4 5 6 7 8 9]\n",
      "1\n"
     ]
    }
   ],
   "source": [
    "# How to access the element \n",
    "# its 1- D array\n",
    "arr = np.array([1,2,3,4,5,6,7,8,9])\n",
    "print(arr)\n",
    "\n",
    "# lets check the dimention of the array\n",
    "print(x.ndim)"
   ]
  },
  {
   "cell_type": "code",
   "execution_count": 3,
   "id": "3b71ea59",
   "metadata": {},
   "outputs": [
    {
     "name": "stdout",
     "output_type": "stream",
     "text": [
      "[1 2 3 4 5 6 7 8 9]\n",
      "<class 'numpy.ndarray'>\n",
      "************************************************************\n",
      "[10 20 30 40]\n",
      "<class 'numpy.ndarray'>\n"
     ]
    }
   ],
   "source": [
    "# creat a numpy  array using list\n",
    "\n",
    "arr = np.array ([1,2,3,4,5,6,7,8,9])\n",
    "print(arr)\n",
    "print(type(arr))\n",
    "\n",
    "print('*'*60)\n",
    "\n",
    "lst = [10,20,30,40]\n",
    "ar = np.array(lst)\n",
    "print(ar)\n",
    "print(type(ar))"
   ]
  },
  {
   "cell_type": "code",
   "execution_count": 4,
   "id": "f546bcf7",
   "metadata": {},
   "outputs": [
    {
     "name": "stdout",
     "output_type": "stream",
     "text": [
      "[1 2 3 4 5 6 7 8 9]\n",
      "Number of dimention: 1\n"
     ]
    }
   ],
   "source": [
    "# how to access the element\n",
    "# its 1-D array\n",
    "arr = np.array([1,2,3,4,5,6,7,8,9])\n",
    "print(arr)\n",
    "# lets check the dimentions of the array\n",
    "print('Number of dimention:',arr.ndim)"
   ]
  },
  {
   "cell_type": "code",
   "execution_count": 5,
   "id": "2f6d1c45",
   "metadata": {},
   "outputs": [
    {
     "name": "stdout",
     "output_type": "stream",
     "text": [
      "[1 2 3 4 5 6]\n",
      "<class 'numpy.ndarray'>\n"
     ]
    }
   ],
   "source": [
    "# craete numpy array using tuple\n",
    "\n",
    "tup = (1,2,3,4,5,6)\n",
    "ar = np.array(tup)\n",
    "print(ar)\n",
    "print(type(ar))"
   ]
  },
  {
   "cell_type": "code",
   "execution_count": 6,
   "id": "ddb1f60a",
   "metadata": {},
   "outputs": [],
   "source": [
    "# different dimentional arrays:"
   ]
  },
  {
   "cell_type": "code",
   "execution_count": 7,
   "id": "1432d359",
   "metadata": {},
   "outputs": [
    {
     "name": "stdout",
     "output_type": "stream",
     "text": [
      "9\n",
      "<class 'numpy.ndarray'>\n",
      "Dimention of array : 0\n"
     ]
    }
   ],
   "source": [
    "# 1. 0-D array\n",
    "\n",
    "arr = np.array (9)\n",
    "print(arr)\n",
    "print(type(arr))\n",
    "print(\"Dimention of array :\",arr.ndim)"
   ]
  },
  {
   "cell_type": "code",
   "execution_count": 8,
   "id": "e258bfe5",
   "metadata": {},
   "outputs": [
    {
     "name": "stdout",
     "output_type": "stream",
     "text": [
      "[ 1  2  3  4 45]\n",
      "<class 'numpy.ndarray'>\n",
      "Dimensons of array: 1\n",
      "element present at 4th index: 45\n"
     ]
    }
   ],
   "source": [
    "# 2. 1-D array \n",
    "\n",
    "arr= np. array([1,2,3,4,45])\n",
    "print(arr)\n",
    "print(type(arr))\n",
    "print(\"Dimensons of array:\", arr.ndim)\n",
    "\n",
    "# access element an 1-D Array \n",
    "print ('element present at 4th index:', arr[4])"
   ]
  },
  {
   "cell_type": "code",
   "execution_count": 9,
   "id": "66d69e29",
   "metadata": {},
   "outputs": [
    {
     "name": "stdout",
     "output_type": "stream",
     "text": [
      "[[1 2 3]\n",
      " [4 5 6]]\n",
      "<class 'numpy.ndarray'>\n",
      "Dimention of array: 2\n",
      "Element present at lst in axis 0: 2\n"
     ]
    }
   ],
   "source": [
    "# 3 2-D array \n",
    "# Arrray having 1- D array as input eleement ara called as  2-D array\n",
    "\n",
    "arr = np.array([[1,2,3],[4,5,6]])\n",
    "print(arr)\n",
    "print(type(arr))\n",
    "print(\"Dimention of array:\",arr.ndim)\n",
    "\n",
    "# Acess eleemn an 2-D  array\n",
    "# Array having 1-D array as input element are called as 2-D array\n",
    "\n",
    "\n",
    "print('Element present at lst in axis 0:',arr[0,1]) # array"
   ]
  },
  {
   "cell_type": "code",
   "execution_count": 10,
   "id": "dc6458d2",
   "metadata": {},
   "outputs": [
    {
     "name": "stdout",
     "output_type": "stream",
     "text": [
      "[[1 2 3 4]\n",
      " [4 5 6 7]\n",
      " [4 5 6 7]\n",
      " [4 5 6 7]]\n",
      "Dimention: 2\n"
     ]
    }
   ],
   "source": [
    "import numpy as np\n",
    "ar = [[1,2,3,4],[4,5,6,7],[4,5,6,7],[4,5,6,7]]\n",
    "arr = np.array(ar)\n",
    "print(arr)\n",
    "print(\"Dimention:\",arr.ndim)"
   ]
  },
  {
   "cell_type": "code",
   "execution_count": 11,
   "id": "a4e42afe",
   "metadata": {},
   "outputs": [
    {
     "name": "stdout",
     "output_type": "stream",
     "text": [
      "[[1 2 3 4]\n",
      " [4 5 6 7]\n",
      " [4 5 6 7]\n",
      " [4 5 6 7]]\n",
      "Dimention: 2\n",
      "************************************************************\n",
      "arr[0][3]: 4\n",
      "************************************************************\n",
      "arr[0]: [1 2 3 4]\n",
      "************************************************************\n",
      "arr[0][2]: 3\n",
      "************************************************************\n",
      "arr[1]: [4 5 6 7]\n",
      "arr[3,1]: 5\n"
     ]
    }
   ],
   "source": [
    "#Access the element of 2-D array\n",
    "\n",
    "\n",
    "print(arr)\n",
    "#dimention\n",
    "print(\"Dimention:\",arr.ndim)\n",
    "print('*'*60)\n",
    "\n",
    "#one way is to write\n",
    "print('arr[0][3]:',arr[0][3])\n",
    "print('*'*60)\n",
    "\n",
    "print('arr[0]:',arr[0])\n",
    "print('*'*60)\n",
    "\n",
    "print('arr[0][2]:',arr[0][2])\n",
    "print('*'*60)\n",
    "\n",
    "#anather way is like\n",
    "print('arr[1]:',arr[1])\n",
    "print('arr[3,1]:',arr[3,1])"
   ]
  },
  {
   "cell_type": "code",
   "execution_count": 12,
   "id": "6b052a28",
   "metadata": {},
   "outputs": [
    {
     "name": "stdout",
     "output_type": "stream",
     "text": [
      "[[[1, 2, 3], [4, 5, 6]], [[10, 20, 30], [40, 50, 60]]]\n",
      "<class 'list'>\n",
      "************************************************************\n",
      "[[[ 1  2  3]\n",
      "  [ 4  5  6]]\n",
      "\n",
      " [[10 20 30]\n",
      "  [40 50 60]]]\n",
      "<class 'numpy.ndarray'>\n",
      "****************************************************************************************************\n",
      "Dimention of array: 3\n"
     ]
    }
   ],
   "source": [
    "#4].  3-D array\n",
    "# array  that has 2-D array (matrices)as its element is called \n",
    "\n",
    "ar= [[[1,2,3],[4,5,6]],[[10,20,30],[40,50,60]]]\n",
    "print(ar)\n",
    "print(type(ar))\n",
    "print('*'*60)\n",
    "\n",
    "arr=np.array(ar)\n",
    "print(arr)\n",
    "print(type(arr))\n",
    "print('*'*100)\n",
    "\n",
    "print('Dimention of array:', arr.ndim)"
   ]
  },
  {
   "cell_type": "code",
   "execution_count": 13,
   "id": "a0696532",
   "metadata": {},
   "outputs": [
    {
     "name": "stdout",
     "output_type": "stream",
     "text": [
      "[[[ 1  2  3]\n",
      "  [ 4  5  6]]\n",
      "\n",
      " [[10 20 30]\n",
      "  [40 50 60]]]\n",
      "<class 'numpy.ndarray'>\n",
      "****************************************************************************************************\n",
      "One way is :\n",
      "arr[1]: [[10 20 30]\n",
      " [40 50 60]]\n",
      "arr[0][0]: [1 2 3]\n",
      "arr[0][0][2]: 3\n",
      "****************************************************************************************************\n"
     ]
    }
   ],
   "source": [
    "# access the element of the 3-D array \n",
    "\n",
    "print(arr)\n",
    "print(type(arr))\n",
    "print('*'*100)\n",
    "\n",
    "print('One way is :')\n",
    "print('arr[1]:',arr[1])\n",
    "print('arr[0][0]:',arr[0][0])\n",
    "print('arr[0][0][2]:',arr[0][0][2])\n",
    "\n",
    "print('*'*100)"
   ]
  },
  {
   "cell_type": "markdown",
   "id": "888d019b",
   "metadata": {},
   "source": [
    "## Creat an n dimention array"
   ]
  },
  {
   "cell_type": "markdown",
   "id": "22ee9d8f",
   "metadata": {},
   "source": [
    " lower dimention to lower dimention will possible by using  ndmin funtion for we need to go with array.reshape(funtion)\n",
    " \n",
    " \n",
    " ndim = ..1./2/3/4/5/...\n",
    " \n",
    " but higher dimention to lower dimention will possible by using ndim function for we need to go with array.reshape() function"
   ]
  },
  {
   "cell_type": "code",
   "execution_count": 14,
   "id": "2b691467",
   "metadata": {},
   "outputs": [
    {
     "name": "stdout",
     "output_type": "stream",
     "text": [
      "[[[[[1 2 3 4]]]]]\n",
      "Number of dimention: 5\n"
     ]
    }
   ],
   "source": [
    "# creat an n dimention array \n",
    "arr = np.array([1,2,3,4],ndmin=5)\n",
    "\n",
    "print(arr)\n",
    "print('Number of dimention:',arr.ndim)"
   ]
  },
  {
   "cell_type": "code",
   "execution_count": 15,
   "id": "d4b95d9a",
   "metadata": {},
   "outputs": [
    {
     "data": {
      "text/plain": [
       "(array([[[[[1, 2, 3]]]]]), 5)"
      ]
     },
     "execution_count": 15,
     "metadata": {},
     "output_type": "execute_result"
    }
   ],
   "source": [
    "# lower to higher is possible but higher to lower not possible\n",
    "import numpy as np\n",
    "arr1 = np.array([[[[[1,2,3]]]]],ndmin=3)\n",
    "arr1,arr1.ndim"
   ]
  },
  {
   "cell_type": "code",
   "execution_count": 16,
   "id": "6d15b433",
   "metadata": {},
   "outputs": [
    {
     "data": {
      "text/plain": [
       "(array([[[1, 2, 3]]]), 3)"
      ]
     },
     "execution_count": 16,
     "metadata": {},
     "output_type": "execute_result"
    }
   ],
   "source": [
    "arr2 = np.array([1,2,3],ndmin=3)\n",
    "arr2,arr2.ndim"
   ]
  },
  {
   "cell_type": "code",
   "execution_count": 17,
   "id": "28604dfd",
   "metadata": {},
   "outputs": [
    {
     "data": {
      "text/plain": [
       "5"
      ]
     },
     "execution_count": 17,
     "metadata": {},
     "output_type": "execute_result"
    }
   ],
   "source": [
    "arr11 = np.array([1,2,3,4])\n",
    "arr10 = arr11.reshape((1,1,1,1,4))\n",
    "arr10.ndim"
   ]
  },
  {
   "cell_type": "code",
   "execution_count": 18,
   "id": "af918ce2",
   "metadata": {},
   "outputs": [
    {
     "name": "stdout",
     "output_type": "stream",
     "text": [
      "[[[ 1  2  3]\n",
      "  [ 4  5  6]]\n",
      "\n",
      " [[10 20 30]\n",
      "  [40 50 60]]] 3\n"
     ]
    },
    {
     "data": {
      "text/plain": [
       "(2, 2, 3)"
      ]
     },
     "execution_count": 18,
     "metadata": {},
     "output_type": "execute_result"
    }
   ],
   "source": [
    "b = np.array([[[1,2,3],[4,5,6,]],[[10,20,30],[40,50,60]]])\n",
    "print(b,b.ndim)\n",
    "b.shape"
   ]
  },
  {
   "cell_type": "code",
   "execution_count": 19,
   "id": "ecd982d5",
   "metadata": {},
   "outputs": [
    {
     "data": {
      "text/plain": [
       "(array([[[ 1,  2,  3],\n",
       "         [ 4,  5,  6]],\n",
       " \n",
       "        [[10, 20, 30],\n",
       "         [40, 50, 60]]]),\n",
       " 3)"
      ]
     },
     "execution_count": 19,
     "metadata": {},
     "output_type": "execute_result"
    }
   ],
   "source": [
    "b=np.array ([[[1,2,3],[4,5,6]],[[10,20,30],[40,50,60]]])\n",
    "b,b.ndim"
   ]
  },
  {
   "cell_type": "code",
   "execution_count": 20,
   "id": "1df5ee32",
   "metadata": {},
   "outputs": [
    {
     "data": {
      "text/plain": [
       "6"
      ]
     },
     "execution_count": 20,
     "metadata": {},
     "output_type": "execute_result"
    }
   ],
   "source": [
    "b[0,1,2]"
   ]
  },
  {
   "cell_type": "markdown",
   "id": "d321d14c",
   "metadata": {},
   "source": [
    "## Array Slicing"
   ]
  },
  {
   "cell_type": "code",
   "execution_count": 21,
   "id": "348e8d60",
   "metadata": {},
   "outputs": [
    {
     "data": {
      "text/plain": [
       "(array([[[[[1, 2, 3, 4]]]]]), 5, (1, 1, 1, 1, 4))"
      ]
     },
     "execution_count": 21,
     "metadata": {},
     "output_type": "execute_result"
    }
   ],
   "source": [
    "arr = np.array([1,2,3,4],ndmin=5)\n",
    "arr,arr.ndim,arr.shape\n",
    "\n"
   ]
  },
  {
   "cell_type": "code",
   "execution_count": 22,
   "id": "55aec0ed",
   "metadata": {},
   "outputs": [
    {
     "name": "stdout",
     "output_type": "stream",
     "text": [
      "1\n",
      "2\n",
      "3\n",
      "4\n"
     ]
    }
   ],
   "source": [
    "# 5d array slicing\n",
    "\n",
    "print(arr[0][0][0][0][0])\n",
    "print(arr[0][0][0][0][1])\n",
    "print(arr[0][0][0][0][2])\n",
    "print(arr[0][0][0][0][3])\n"
   ]
  },
  {
   "cell_type": "code",
   "execution_count": 23,
   "id": "e6513708",
   "metadata": {},
   "outputs": [
    {
     "name": "stdout",
     "output_type": "stream",
     "text": [
      "[1 2 3 4 5 6 7 8 9]\n",
      "Length: 9\n",
      "[6 7 8 9]\n",
      "[1 2 3 4 5 6 7 8 9]\n"
     ]
    }
   ],
   "source": [
    "arr = np.array([1,2,3,4,5,6,7,8,9])\n",
    "print(arr)\n",
    "\n",
    "# slice\n",
    "print(\"Length:\",len(arr))\n",
    "print(arr[5:9])\n",
    "print(arr)\n",
    "\n",
    "# [start:end], start include ,end excluded"
   ]
  },
  {
   "cell_type": "code",
   "execution_count": 24,
   "id": "92db1714",
   "metadata": {},
   "outputs": [
    {
     "name": "stdout",
     "output_type": "stream",
     "text": [
      "[1 2 3 4 5 6 7 8 9]\n",
      "[1 2 3 4 5]\n"
     ]
    }
   ],
   "source": [
    "print(arr)\n",
    "print(arr[0:5])"
   ]
  },
  {
   "cell_type": "markdown",
   "id": "25c69368",
   "metadata": {},
   "source": [
    "## Negative indices"
   ]
  },
  {
   "cell_type": "markdown",
   "id": "430c223a",
   "metadata": {},
   "source": [
    "####  Negative indices always start from last element of n-d \n",
    "#### array i.e -1st index is last element of ndarray"
   ]
  },
  {
   "cell_type": "code",
   "execution_count": 25,
   "id": "6e8805fc",
   "metadata": {},
   "outputs": [
    {
     "name": "stdout",
     "output_type": "stream",
     "text": [
      "[1 2 3 4 5 6 7 8 9]\n"
     ]
    }
   ],
   "source": [
    "print(arr)"
   ]
  },
  {
   "cell_type": "code",
   "execution_count": 26,
   "id": "432a35f7",
   "metadata": {},
   "outputs": [
    {
     "name": "stdout",
     "output_type": "stream",
     "text": [
      "9\n",
      "5\n",
      "1\n"
     ]
    }
   ],
   "source": [
    "print(arr[-1])\n",
    "print(arr[-5])\n",
    "print(arr[-9])"
   ]
  },
  {
   "cell_type": "code",
   "execution_count": 27,
   "id": "659c4bf7",
   "metadata": {},
   "outputs": [
    {
     "name": "stdout",
     "output_type": "stream",
     "text": [
      "[1 2 3 4 5 6 7 8 9]\n",
      "[1 3 5 7 9]\n"
     ]
    }
   ],
   "source": [
    "# step value in slincing a numpy array\n",
    "# here step is 2 \n",
    "print(arr)\n",
    "print(arr[0:9:2])"
   ]
  },
  {
   "cell_type": "code",
   "execution_count": 28,
   "id": "15b2a48e",
   "metadata": {},
   "outputs": [
    {
     "name": "stdout",
     "output_type": "stream",
     "text": [
      "[1 3 5 7 9]\n",
      "[1 3 5]\n"
     ]
    }
   ],
   "source": [
    "print(arr[::2]) # ::2 >> 0 to 9 index by step index 2\n",
    "print(arr[0:6:2]) # 0:6:2 >> 0 to 6 index by step value 2\n"
   ]
  },
  {
   "cell_type": "markdown",
   "id": "2d4a717d",
   "metadata": {},
   "source": [
    "### Slincing of 2D Array"
   ]
  },
  {
   "cell_type": "code",
   "execution_count": 29,
   "id": "3164f297",
   "metadata": {},
   "outputs": [
    {
     "name": "stdout",
     "output_type": "stream",
     "text": [
      "[[ 1  2  3  4  5]\n",
      " [ 6  7  8  9 10]]\n",
      "\n",
      "\n",
      "8\n",
      "[7 8 9]\n",
      "[2 3 4]\n"
     ]
    }
   ],
   "source": [
    "arr = np .array([[1,2,3,4,5],[6,7,8,9,10]])\n",
    "\n",
    "print (arr)\n",
    "print('\\n')\n",
    "print(arr[1,2])\n",
    "print(arr[1,1:4]) # arr\n",
    "print(arr[0,1:4])"
   ]
  },
  {
   "cell_type": "code",
   "execution_count": 30,
   "id": "f50553d1",
   "metadata": {},
   "outputs": [
    {
     "name": "stdout",
     "output_type": "stream",
     "text": [
      "[[ 1  2  3  4  5]\n",
      " [ 6  7  8  9 10]]\n"
     ]
    }
   ],
   "source": [
    "print(arr)"
   ]
  },
  {
   "cell_type": "code",
   "execution_count": 31,
   "id": "edc273c7",
   "metadata": {},
   "outputs": [
    {
     "data": {
      "text/plain": [
       "array([[3],\n",
       "       [8]])"
      ]
     },
     "execution_count": 31,
     "metadata": {},
     "output_type": "execute_result"
    }
   ],
   "source": [
    "arr[0:,2:3]"
   ]
  },
  {
   "cell_type": "code",
   "execution_count": 32,
   "id": "4e23a399",
   "metadata": {},
   "outputs": [
    {
     "data": {
      "text/plain": [
       "array([[1, 2, 3],\n",
       "       [6, 7, 8]])"
      ]
     },
     "execution_count": 32,
     "metadata": {},
     "output_type": "execute_result"
    }
   ],
   "source": [
    "arr[0:,:3]"
   ]
  },
  {
   "cell_type": "code",
   "execution_count": 33,
   "id": "136bc9c8",
   "metadata": {},
   "outputs": [
    {
     "data": {
      "text/plain": [
       "array([1, 2, 3])"
      ]
     },
     "execution_count": 33,
     "metadata": {},
     "output_type": "execute_result"
    }
   ],
   "source": [
    "arr[0,:3]"
   ]
  },
  {
   "cell_type": "code",
   "execution_count": 34,
   "id": "9510e7f8",
   "metadata": {},
   "outputs": [
    {
     "name": "stdout",
     "output_type": "stream",
     "text": [
      "[[1 2 3]]\n"
     ]
    }
   ],
   "source": [
    "print(arr[0:1,0:3])  # arr[location index from to,element index]\n"
   ]
  },
  {
   "cell_type": "code",
   "execution_count": 35,
   "id": "f0dbb181",
   "metadata": {},
   "outputs": [
    {
     "name": "stdout",
     "output_type": "stream",
     "text": [
      "[3 8]\n"
     ]
    }
   ],
   "source": [
    "print(arr[0:2,2])"
   ]
  },
  {
   "cell_type": "code",
   "execution_count": 36,
   "id": "f66ca599",
   "metadata": {},
   "outputs": [
    {
     "name": "stdout",
     "output_type": "stream",
     "text": [
      "[[ 1  2  3  4  5]\n",
      " [10 20 30 40 50]\n",
      " [11 22 33 44 55]]\n",
      "15 (3, 5)\n"
     ]
    }
   ],
   "source": [
    "arr = np.array([[1,2,3,4,5],[10,20,30,40,50],[11,22,33,44,55]])\n",
    "print(arr)\n",
    "print(arr.size,arr.shape)"
   ]
  },
  {
   "cell_type": "code",
   "execution_count": 37,
   "id": "36c4b24b",
   "metadata": {},
   "outputs": [
    {
     "name": "stdout",
     "output_type": "stream",
     "text": [
      "[[ 2  3]\n",
      " [20 30]]\n",
      "\n",
      "\n",
      "[[20 30 40]\n",
      " [22 33 44]]\n"
     ]
    }
   ],
   "source": [
    "# 2, 3 \n",
    "# 20,30\n",
    "print(arr[0:2,1:3])\n",
    "\n",
    "print('\\n')\n",
    "\n",
    "# 20,30,40\n",
    "# 22,33,44\n",
    "\n",
    "print(arr[1:,1:4])"
   ]
  },
  {
   "cell_type": "markdown",
   "id": "d27f0d57",
   "metadata": {},
   "source": [
    "## Slicing of 3D array"
   ]
  },
  {
   "cell_type": "code",
   "execution_count": 38,
   "id": "3d92da26",
   "metadata": {},
   "outputs": [
    {
     "name": "stdout",
     "output_type": "stream",
     "text": [
      "[[[ 1  2  3]\n",
      "  [ 5  6  7]]\n",
      "\n",
      " [[11 22 33]\n",
      "  [55 66 77]]]\n",
      "3\n"
     ]
    }
   ],
   "source": [
    "arr   = np.array([[[1,2,3],[5,6,7]],[[11,22,33],[55,66,77]]])\n",
    "print(arr)\n",
    "print(arr.ndim)"
   ]
  },
  {
   "cell_type": "code",
   "execution_count": 39,
   "id": "af406f5d",
   "metadata": {},
   "outputs": [
    {
     "data": {
      "text/plain": [
       "array([6, 7])"
      ]
     },
     "execution_count": 39,
     "metadata": {},
     "output_type": "execute_result"
    }
   ],
   "source": [
    "arr[0][1][1:3] # [array location, array row location, array ]"
   ]
  },
  {
   "cell_type": "code",
   "execution_count": 40,
   "id": "af6647f3",
   "metadata": {},
   "outputs": [
    {
     "data": {
      "text/plain": [
       "array([55, 66])"
      ]
     },
     "execution_count": 40,
     "metadata": {},
     "output_type": "execute_result"
    }
   ],
   "source": [
    "arr[1,1,0:2]"
   ]
  },
  {
   "cell_type": "code",
   "execution_count": 41,
   "id": "e58af1f8",
   "metadata": {},
   "outputs": [
    {
     "data": {
      "text/plain": [
       "array([66, 77])"
      ]
     },
     "execution_count": 41,
     "metadata": {},
     "output_type": "execute_result"
    }
   ],
   "source": [
    "arr[1][1][1:3]"
   ]
  },
  {
   "cell_type": "markdown",
   "id": "82201965",
   "metadata": {},
   "source": [
    "# Data types in Numpy"
   ]
  },
  {
   "cell_type": "markdown",
   "id": "e3a96f5a",
   "metadata": {},
   "source": [
    "# list of all data types in numpy"
   ]
  },
  {
   "cell_type": "code",
   "execution_count": 42,
   "id": "72444517",
   "metadata": {},
   "outputs": [
    {
     "ename": "SyntaxError",
     "evalue": "invalid syntax (1226495924.py, line 3)",
     "output_type": "error",
     "traceback": [
      "\u001b[1;36m  Cell \u001b[1;32mIn [42], line 3\u001b[1;36m\u001b[0m\n\u001b[1;33m    unit - unsigned intger\u001b[0m\n\u001b[1;37m                    ^\u001b[0m\n\u001b[1;31mSyntaxError\u001b[0m\u001b[1;31m:\u001b[0m invalid syntax\n"
     ]
    }
   ],
   "source": [
    "i/Int -integer\n",
    "Bool - boilean \n",
    "unit - unsigned intger \n",
    "f/Float - Complex Float\n",
    "string - string\n",
    "m - datatime\n",
    "m - timedelta\n",
    "o - object \n",
    "U - unicode string"
   ]
  },
  {
   "cell_type": "code",
   "execution_count": 43,
   "id": "30448cb6",
   "metadata": {},
   "outputs": [],
   "source": [
    "import numpy as np\n"
   ]
  },
  {
   "cell_type": "code",
   "execution_count": 44,
   "id": "dfcd0c73",
   "metadata": {},
   "outputs": [
    {
     "name": "stdout",
     "output_type": "stream",
     "text": [
      "int32\n"
     ]
    }
   ],
   "source": [
    "# dype \n",
    "\n",
    "arr = np.array ([1,2,3,4])\n",
    "print(arr.dtype)"
   ]
  },
  {
   "cell_type": "code",
   "execution_count": 45,
   "id": "26382e21",
   "metadata": {},
   "outputs": [
    {
     "name": "stdout",
     "output_type": "stream",
     "text": [
      "<U6\n"
     ]
    }
   ],
   "source": [
    "arr = np. array(['apple','banana','cherry'])\n",
    "print(arr.dtype)"
   ]
  },
  {
   "cell_type": "code",
   "execution_count": 46,
   "id": "19d05281",
   "metadata": {},
   "outputs": [
    {
     "name": "stdout",
     "output_type": "stream",
     "text": [
      "['1' '2' '3' '4']\n",
      "<U1\n"
     ]
    }
   ],
   "source": [
    "# creating arrays with a defined data type\n",
    "\n",
    "arr = np.array([1,2,3,4],dtype=str)\n",
    "print(arr)\n",
    "print(arr.dtype)"
   ]
  },
  {
   "cell_type": "code",
   "execution_count": 47,
   "id": "5fa06d29",
   "metadata": {},
   "outputs": [
    {
     "name": "stdout",
     "output_type": "stream",
     "text": [
      "[1 2 3 4]\n",
      "int32\n"
     ]
    }
   ],
   "source": [
    "arr = np.array([1,2,3,4],dtype='i')  #int\n",
    "print(arr)\n",
    "print(arr.dtype)"
   ]
  },
  {
   "cell_type": "code",
   "execution_count": 48,
   "id": "f24b37c3",
   "metadata": {},
   "outputs": [
    {
     "name": "stdout",
     "output_type": "stream",
     "text": [
      "[1. 2. 3. 4. 5. 6.]\n",
      "float32\n"
     ]
    }
   ],
   "source": [
    "arr = np.array([1,2,3,4,5,6],dtype='f')\n",
    "print(arr)\n",
    "print(arr.dtype)"
   ]
  },
  {
   "cell_type": "code",
   "execution_count": 49,
   "id": "400bfbf1",
   "metadata": {},
   "outputs": [
    {
     "name": "stdout",
     "output_type": "stream",
     "text": [
      "[1. 2. 3. 4. 5. 6.]\n",
      "float64\n"
     ]
    }
   ],
   "source": [
    "arr= np.array([1,2,3,4,5,6],dtype='float')\n",
    "print(arr)\n",
    "print(arr.dtype)"
   ]
  },
  {
   "cell_type": "code",
   "execution_count": 50,
   "id": "01d4c219",
   "metadata": {},
   "outputs": [
    {
     "name": "stdout",
     "output_type": "stream",
     "text": [
      "[1 2 3 4]\n",
      "int32\n",
      "****************************************************************************************************\n",
      "[1 2 3 4]\n",
      "int32\n"
     ]
    }
   ],
   "source": [
    "# int with 4 byts\n",
    "\n",
    "arr = np.array([1,2,3,4],dtype='i')\n",
    "print(arr)\n",
    "print(arr.dtype)\n",
    "\n",
    "print('*'*100)\n",
    "\n",
    "arr = np.array([1,2,3,4],dtype='i')\n",
    "print(arr)\n",
    "print(arr.dtype)"
   ]
  },
  {
   "cell_type": "code",
   "execution_count": 51,
   "id": "df64f816",
   "metadata": {},
   "outputs": [],
   "source": [
    "# in python we are not responsible for memory management PVM is responsible for memory management"
   ]
  },
  {
   "cell_type": "markdown",
   "id": "3f23ef50",
   "metadata": {},
   "source": []
  },
  {
   "cell_type": "code",
   "execution_count": 52,
   "id": "87370531",
   "metadata": {},
   "outputs": [
    {
     "name": "stdout",
     "output_type": "stream",
     "text": [
      "[1 2 3]\n"
     ]
    }
   ],
   "source": [
    "arr = np .array(['1','2','3'],dtype='i')\n",
    "print(arr)"
   ]
  },
  {
   "cell_type": "markdown",
   "id": "0ecbd64e",
   "metadata": {},
   "source": [
    "## Data Type Conversion"
   ]
  },
  {
   "cell_type": "code",
   "execution_count": 53,
   "id": "6dbef024",
   "metadata": {},
   "outputs": [
    {
     "name": "stdout",
     "output_type": "stream",
     "text": [
      "old array : [1.1 2.2 3.3 4.4]\n",
      "old array data type : float64\n",
      "****************************************************************************************************\n",
      "new array [1 2 3 4]\n",
      "new array data type : int32\n"
     ]
    }
   ],
   "source": [
    "# float to int\n",
    "\n",
    "arr = np.array([1.1,2.2,3.3,4.4])\n",
    "print('old array :',arr)\n",
    "print('old array data type :', arr.dtype)\n",
    "print('*'*100)\n",
    "new_arr = arr.astype('i')\n",
    "print('new array',new_arr)\n",
    "print('new array data type :',new_arr.dtype)\n"
   ]
  },
  {
   "cell_type": "code",
   "execution_count": 54,
   "id": "b1a82d75",
   "metadata": {},
   "outputs": [
    {
     "name": "stdout",
     "output_type": "stream",
     "text": [
      "old array: [1 2 3 4 0]\n",
      "old array data type: int32\n",
      "****************************************************************************************************\n",
      "new array [ True  True  True  True False]\n",
      "new array data type: bool\n"
     ]
    }
   ],
   "source": [
    "# int to bool \n",
    "arr = np.array([1,2,3,4,0])\n",
    "print('old array:',arr)\n",
    "print('old array data type:',arr.dtype)\n",
    "print('*'*100)\n",
    "new_arr = arr.astype (bool)\n",
    "print('new array',new_arr)\n",
    "print('new array data type:',new_arr.dtype)"
   ]
  },
  {
   "cell_type": "markdown",
   "id": "41f3bc60",
   "metadata": {},
   "source": [
    "## Differance between copy and view"
   ]
  },
  {
   "cell_type": "markdown",
   "id": "69d46f68",
   "metadata": {},
   "source": [
    "## Copy :\n",
    "#### A copy is a new array that has the same data as the original array.changes made to the copy do not affect the original array, and vice versa\n",
    "\n",
    "\n",
    "## View :\n",
    "#### A view is a new array that refers to the same data as the orinal array. changes made to the view affect the original array , and vice versa\n"
   ]
  },
  {
   "cell_type": "code",
   "execution_count": 55,
   "id": "25c5ae0d",
   "metadata": {},
   "outputs": [
    {
     "name": "stdout",
     "output_type": "stream",
     "text": [
      "original array: [1 2 3 4 5]\n",
      "copid array: [1 2 3 4 5]\n",
      "now we will update the original array \"1 to 100\"\n",
      "original array after update : [100   2   3   4   5]\n",
      "copied array after update in original: [1 2 3 4 5]\n"
     ]
    }
   ],
   "source": [
    "a = np.array([1,2,3,4,5])\n",
    "print('original array:',a)\n",
    "b=a.copy()\n",
    "print('copid array:',b)\n",
    "print('now we will update the original array \"1 to 100\"')\n",
    "a[0]=100\n",
    "print('original array after update :',a)\n",
    "print('copied array after update in original:',b)"
   ]
  },
  {
   "cell_type": "code",
   "execution_count": 56,
   "id": "ab9fefb7",
   "metadata": {},
   "outputs": [
    {
     "name": "stdout",
     "output_type": "stream",
     "text": [
      "original array: [1 2 3 4 5]\n",
      "copied array : [1 2 3 4 5]\n",
      "now we will update the original array \"1 to 100\"\n",
      "original array after update : [100   2   3   4   5]\n",
      "copied array after update in original : [100   2   3   4   5]\n"
     ]
    }
   ],
   "source": [
    "a=np.array([1,2,3,4,5])\n",
    "print('original array:',a)\n",
    "b=a .view()\n",
    "print('copied array :',a)\n",
    "print('now we will update the original array \"1 to 100\"')\n",
    "a[0]=100\n",
    "\n",
    "print('original array after update :',a)\n",
    "print('copied array after update in original :',b)\n"
   ]
  },
  {
   "cell_type": "code",
   "execution_count": 57,
   "id": "d9d7400e",
   "metadata": {},
   "outputs": [
    {
     "name": "stdout",
     "output_type": "stream",
     "text": [
      "[42  2  3  4  5]\n",
      "[1 2 3 4 5]\n"
     ]
    }
   ],
   "source": [
    "# copy : it is going to creat new instance fpr ypur value\n",
    "\n",
    "arr = np .array([1,2,3,4,5])\n",
    "x = arr.copy()# separat object required \n",
    "arr[0]= 42 # updated arr 0 th index\n",
    "\n",
    "print (arr )\n",
    "print(x)"
   ]
  },
  {
   "cell_type": "code",
   "execution_count": 58,
   "id": "a98bc8dd",
   "metadata": {},
   "outputs": [
    {
     "name": "stdout",
     "output_type": "stream",
     "text": [
      "[1 2 3 4 5 6]\n",
      "[100   2   3   4   5   6]\n",
      "[1 2 3 4 5 6]\n"
     ]
    }
   ],
   "source": [
    "arr = np.array ([1,2,3,4,5,6])\n",
    "x = arr.copy()# separat object required\n",
    "print(x)\n",
    "x[0] = 100\n",
    "print(x)\n",
    "\n",
    "print(arr)\n",
    "#print(x)"
   ]
  },
  {
   "cell_type": "code",
   "execution_count": 59,
   "id": "6ef951a5",
   "metadata": {},
   "outputs": [
    {
     "name": "stdout",
     "output_type": "stream",
     "text": [
      "[200   2   3   4   5]\n",
      "[200   2   3   4   5]\n"
     ]
    }
   ],
   "source": [
    "# view \n",
    "\n",
    "arr = np.array([1,2,3,4,5])\n",
    "x = arr.view ()\n",
    "\n",
    "#x = arr \n",
    "x[0] = 200\n",
    "print(x)\n",
    "print(x)"
   ]
  },
  {
   "cell_type": "code",
   "execution_count": 60,
   "id": "632914df",
   "metadata": {},
   "outputs": [
    {
     "name": "stdout",
     "output_type": "stream",
     "text": [
      "[4 2 3]\n",
      "[4 2 3]\n"
     ]
    }
   ],
   "source": [
    "a = np.array ([1,2,3])\n",
    "b = a.view()\n",
    "b[0]=4\n",
    "\n",
    "\n",
    "print(a)# output : [4,2,3]\n",
    "print(b)# output: [4,2,3]"
   ]
  },
  {
   "cell_type": "markdown",
   "id": "44995317",
   "metadata": {},
   "source": [
    "### Base concept : how to identify copy or  view"
   ]
  },
  {
   "cell_type": "markdown",
   "id": "6733fa18",
   "metadata": {},
   "source": [
    "#### That will possible  by using \"base\" fuction\n",
    "if you are referring to identifying whether a numpy array is a copy or a view (a differant view of the same data) , you can use the base attribute of the array.the base attribute returns none for arrays that own their data and it returns the base object forrrrrrr arrays that are views"
   ]
  },
  {
   "cell_type": "code",
   "execution_count": 61,
   "id": "a81b2ce5",
   "metadata": {},
   "outputs": [
    {
     "name": "stdout",
     "output_type": "stream",
     "text": [
      "None\n",
      "[1 2 3 4 5]\n"
     ]
    }
   ],
   "source": [
    "arr = np .array([1,2,3,4,5])\n",
    "\n",
    "x = arr.copy()\n",
    "y = arr .view()\n",
    "\n",
    "print(x.base )\n",
    "print(y.base)"
   ]
  },
  {
   "cell_type": "markdown",
   "id": "7518b790",
   "metadata": {},
   "source": [
    "## Numpy Array Reshaping "
   ]
  },
  {
   "cell_type": "code",
   "execution_count": 62,
   "id": "ed4ad8a9",
   "metadata": {},
   "outputs": [
    {
     "name": "stdout",
     "output_type": "stream",
     "text": [
      "(12,)\n",
      "(12,)\n",
      "\n",
      "\n",
      "[[ 1]\n",
      " [ 2]\n",
      " [ 3]\n",
      " [ 4]\n",
      " [ 5]\n",
      " [ 6]\n",
      " [ 7]\n",
      " [ 8]\n",
      " [ 9]\n",
      " [10]\n",
      " [11]\n",
      " [12]]\n"
     ]
    }
   ],
   "source": [
    "arr = np.array ([1,2,3,4,5,6,7,8,9,10,11,12])\n",
    "\n",
    "print(arr.shape)\n",
    "print(arr.shape)\n",
    "print('\\n')\n",
    "newarr=arr.reshape(12,1)\n",
    "print(newarr)\n",
    "                "
   ]
  },
  {
   "cell_type": "code",
   "execution_count": 63,
   "id": "efc75ce1",
   "metadata": {},
   "outputs": [
    {
     "name": "stdout",
     "output_type": "stream",
     "text": [
      "[ 1  2  3  4  5  6  7  8  9 10 11 12]\n"
     ]
    }
   ],
   "source": [
    "print(arr)"
   ]
  },
  {
   "cell_type": "code",
   "execution_count": 64,
   "id": "578a9f88",
   "metadata": {},
   "outputs": [
    {
     "name": "stdout",
     "output_type": "stream",
     "text": [
      "12\n",
      "(12,)\n",
      "\n",
      "\n",
      "[[[ 1  2]\n",
      "  [ 3  4]]\n",
      "\n",
      " [[ 5  6]\n",
      "  [ 7  8]]\n",
      "\n",
      " [[ 9 10]\n",
      "  [11 12]]]\n"
     ]
    }
   ],
   "source": [
    "arr = np.array([1,2,3,4,5,6,7,8,9,10,11,12])\n",
    "\n",
    "print(arr.size)\n",
    "print(arr.shape)\n",
    "print('\\n')\n",
    "newarr=arr.reshape(3,2,2)\n",
    "print(newarr)"
   ]
  },
  {
   "cell_type": "code",
   "execution_count": 65,
   "id": "3b35df36",
   "metadata": {},
   "outputs": [
    {
     "name": "stdout",
     "output_type": "stream",
     "text": [
      "[[[ 1  2  3]\n",
      "  [ 4  5  6]]\n",
      "\n",
      " [[ 7  8  9]\n",
      "  [10 11 12]]]\n"
     ]
    }
   ],
   "source": [
    "arr = np.array([1,2,3,4,5,6,7,8,9,10,11,12])\n",
    "newarr = arr.reshape(2,2,3)\n",
    "print(newarr)"
   ]
  },
  {
   "cell_type": "code",
   "execution_count": 66,
   "id": "42723fe9",
   "metadata": {},
   "outputs": [
    {
     "name": "stdout",
     "output_type": "stream",
     "text": [
      "[[11 44 77 88 99 55]]\n",
      "2\n",
      "****************************************************************************************************\n",
      "[11 44 77 88 99 55]\n",
      "1\n"
     ]
    }
   ],
   "source": [
    "# creat a 2D array and then covert it into 1D array\n",
    "\n",
    "arr = np.array([[11,44,77,88,99,55]])\n",
    "newarr=arr.reshape(6,)\n",
    "print(arr)\n",
    "print(arr.ndim)\n",
    "print('*'*100)\n",
    "print(newarr)\n",
    "print(newarr.ndim)"
   ]
  },
  {
   "cell_type": "code",
   "execution_count": 67,
   "id": "868a1243",
   "metadata": {},
   "outputs": [
    {
     "name": "stdout",
     "output_type": "stream",
     "text": [
      "[[11 44 77]\n",
      " [88 99 55]]\n",
      "2\n",
      "****************************************************************************************************\n",
      "[11 44 77 88 99 55]\n",
      "1\n"
     ]
    }
   ],
   "source": [
    "arr = np.array([[11,44,77],[88,99,55]])\n",
    "newarr = arr.reshape(6,)\n",
    "print(arr)\n",
    "print(arr.ndim)\n",
    "print('*'*100)\n",
    "print(newarr)\n",
    "print(newarr.ndim)"
   ]
  },
  {
   "cell_type": "code",
   "execution_count": 68,
   "id": "730860f0",
   "metadata": {},
   "outputs": [
    {
     "name": "stdout",
     "output_type": "stream",
     "text": [
      "[11 44 77 88 99 55]\n",
      "1\n",
      "****************************************************************************************************\n",
      "[[11 44]\n",
      " [77 88]\n",
      " [99 55]]\n",
      "2\n"
     ]
    }
   ],
   "source": [
    "arr = np.array([11,44,77,88,99,55])\n",
    "newarr = arr.reshape(3,2)\n",
    "print(arr)\n",
    "print(arr.ndim)\n",
    "print('*'*100)\n",
    "print(newarr)\n",
    "print(newarr.ndim)"
   ]
  },
  {
   "cell_type": "code",
   "execution_count": 69,
   "id": "059e681c",
   "metadata": {},
   "outputs": [
    {
     "name": "stdout",
     "output_type": "stream",
     "text": [
      "[[[ 11  44  77  88  99  55]]\n",
      "\n",
      " [[111 441 717 188 919 515]]]\n",
      "3\n",
      "****************************************************************************************************\n",
      "[ 11  44  77  88  99  55 111 441 717 188 919 515]\n",
      "1\n"
     ]
    }
   ],
   "source": [
    "# cvert 3D array into 1D array\n",
    "arr = np.array([[[11,44,77,88,99,55]],[[111,441,717,188,919,515]]])\n",
    "newarr = arr.reshape(12,)\n",
    "print(arr)\n",
    "print(arr.ndim)\n",
    "print('*'*100)\n",
    "print(newarr)\n",
    "print(newarr.ndim)"
   ]
  },
  {
   "cell_type": "code",
   "execution_count": 70,
   "id": "e407b27f",
   "metadata": {
    "scrolled": true
   },
   "outputs": [
    {
     "name": "stdout",
     "output_type": "stream",
     "text": [
      "[ 11  44  77  88  99  55 111 441 717 188 919 515]\n",
      "1\n",
      "****************************************************************************************************\n",
      "[[[ 11  44  77  88]\n",
      "  [ 99  55 111 441]\n",
      "  [717 188 919 515]]]\n",
      "3\n"
     ]
    }
   ],
   "source": [
    "arr = np.array([11,44,77,88,99,55,111,441,717,188,919,515])\n",
    "newarr = arr.reshape(1,3,4)\n",
    "print(arr)\n",
    "print(arr.ndim)\n",
    "print('*'*100)\n",
    "print(newarr)\n",
    "print(newarr.ndim)"
   ]
  },
  {
   "cell_type": "code",
   "execution_count": 71,
   "id": "cd9fa054",
   "metadata": {},
   "outputs": [],
   "source": [
    "import numpy as np\n"
   ]
  },
  {
   "cell_type": "code",
   "execution_count": 72,
   "id": "46bf335e",
   "metadata": {},
   "outputs": [
    {
     "name": "stdout",
     "output_type": "stream",
     "text": [
      "[[[[11 44 77 88 99 55]]]]\n",
      "4\n",
      "****************************************************************************************************\n",
      "[11 44 77 88 99 55]\n",
      "1\n"
     ]
    }
   ],
   "source": [
    "# convert 4D array into 1D array \n",
    "arr = np.array ([[[[11,44,77,88,99,55]]]])\n",
    "newarr = arr.reshape(6,)\n",
    "print(arr)\n",
    "print(arr.ndim)\n",
    "print('*'*100)\n",
    "print(newarr)\n",
    "print(newarr.ndim)\n"
   ]
  },
  {
   "cell_type": "code",
   "execution_count": 73,
   "id": "73798437",
   "metadata": {},
   "outputs": [
    {
     "name": "stdout",
     "output_type": "stream",
     "text": [
      "[11 44 77 88 99 55]\n",
      "1\n",
      "****************************************************************************************************\n",
      "[[11 44]\n",
      " [77 88]\n",
      " [99 55]]\n",
      "2\n"
     ]
    }
   ],
   "source": [
    "arr = np.array([11,44,77,88,99,55])\n",
    "newarr = arr.reshape((3,2))\n",
    "print(arr)\n",
    "print(arr.ndim)\n",
    "print('*'*100)\n",
    "print(newarr)\n",
    "print(newarr.ndim)"
   ]
  },
  {
   "cell_type": "markdown",
   "id": "3f14eeb1",
   "metadata": {},
   "source": [
    "## Numpy Array Reshape Flatten Unknown Dimention"
   ]
  },
  {
   "cell_type": "markdown",
   "id": "e1011af7",
   "metadata": {},
   "source": [
    "#### if user dont know any one dimention out 3 dimention then numpy can obtain it for user have mention the _1 for thaat dim"
   ]
  },
  {
   "cell_type": "code",
   "execution_count": 74,
   "id": "7792cfd7",
   "metadata": {},
   "outputs": [
    {
     "name": "stdout",
     "output_type": "stream",
     "text": [
      "[[[1]\n",
      "  [2]\n",
      "  [3]]\n",
      "\n",
      " [[4]\n",
      "  [5]\n",
      "  [6]]\n",
      "\n",
      " [[7]\n",
      "  [8]\n",
      "  [9]]]\n"
     ]
    }
   ],
   "source": [
    "# unkown Dimention \n",
    "arr = np.array ([1,2,3,4,5,6,7,8,9])\n",
    "\n",
    "newarr = arr.reshape(3,3,-1)\n",
    "print(newarr)"
   ]
  },
  {
   "cell_type": "markdown",
   "id": "e8437c8e",
   "metadata": {},
   "source": [
    "#### if u want to a 1-D  Araay using N-D array "
   ]
  },
  {
   "cell_type": "code",
   "execution_count": 75,
   "id": "89028af1",
   "metadata": {},
   "outputs": [
    {
     "name": "stdout",
     "output_type": "stream",
     "text": [
      "[[10 20 30]\n",
      " [40 50 60]]\n",
      "(2, 3)\n",
      "[10 20 30 40 50 60]\n"
     ]
    }
   ],
   "source": [
    "# flattenting (reshshape/covrt in scalar vector) an array\n",
    "\n",
    "arr = np.array([[10,20,30],[40,50,60]])\n",
    "\n",
    "print(arr)\n",
    "print(arr.shape)\n",
    "\n",
    "newarr=arr.reshape(-1)\n",
    "print(newarr)"
   ]
  },
  {
   "cell_type": "markdown",
   "id": "8d0a618f",
   "metadata": {},
   "source": [
    "## Numpy Array Iterating"
   ]
  },
  {
   "cell_type": "markdown",
   "id": "bcb218e7",
   "metadata": {},
   "source": [
    "### iterating means that you going each element of the array"
   ]
  },
  {
   "cell_type": "code",
   "execution_count": 80,
   "id": "44462ba1",
   "metadata": {},
   "outputs": [
    {
     "name": "stdout",
     "output_type": "stream",
     "text": [
      "[11 22 33]\n",
      "[10 20 30]\n"
     ]
    }
   ],
   "source": [
    "# iterating on 2-D array \n",
    "arr = np.array ([[11,22,33],[10,20,30]])\n",
    "\n",
    "# print(arr)\n",
    "\n",
    "for x in arr: # x is taking elements here\n",
    "    print(x)"
   ]
  },
  {
   "cell_type": "code",
   "execution_count": 82,
   "id": "a2fe51f7",
   "metadata": {},
   "outputs": [
    {
     "name": "stdout",
     "output_type": "stream",
     "text": [
      "1\n",
      "2\n",
      "3\n",
      "4\n",
      "5\n",
      "6\n"
     ]
    }
   ],
   "source": [
    "# interating on scalarelement of 2-D array\n",
    "\n",
    "arr = np.array([[1,2,3],[4,5,6]])\n",
    "for x in arr : # here x is hplding list of element\n",
    "    for i in x:\n",
    "        print(i)\n",
    "    "
   ]
  },
  {
   "cell_type": "code",
   "execution_count": 85,
   "id": "3064738d",
   "metadata": {},
   "outputs": [
    {
     "name": "stdout",
     "output_type": "stream",
     "text": [
      "1 \n",
      "\n",
      "2 \n",
      "\n",
      "3 \n",
      "\n",
      "4 \n",
      "\n",
      "5 \n",
      "\n",
      "6 \n",
      "\n",
      "7 \n",
      "\n",
      "8 \n",
      "\n",
      "9 \n",
      "\n",
      "10 \n",
      "\n",
      "11 \n",
      "\n",
      "12 \n",
      "\n"
     ]
    }
   ],
   "source": [
    "#iterating on scalar elememntof 3-D array\n",
    "\n",
    "arr = np.array([[[1,2,3,],[4,5,6]],[[7,8,9],[10,11,12]]])\n",
    "for x in arr : \n",
    "#    print(x,'\\n')\n",
    "    for i in x:\n",
    "        for j in i :\n",
    "            print(j,'\\n')"
   ]
  },
  {
   "cell_type": "markdown",
   "id": "df20ba4e",
   "metadata": {},
   "source": [
    "### using nditer()"
   ]
  },
  {
   "cell_type": "code",
   "execution_count": 86,
   "id": "c3d8d47c",
   "metadata": {},
   "outputs": [
    {
     "ename": "IndentationError",
     "evalue": "unexpected indent (621175081.py, line 2)",
     "output_type": "error",
     "traceback": [
      "\u001b[1;36m  Cell \u001b[1;32mIn [86], line 2\u001b[1;36m\u001b[0m\n\u001b[1;33m    arr =np.array([[[1,2],[3,4]],[[5,6],[7,8]]])\u001b[0m\n\u001b[1;37m    ^\u001b[0m\n\u001b[1;31mIndentationError\u001b[0m\u001b[1;31m:\u001b[0m unexpected indent\n"
     ]
    }
   ],
   "source": [
    "# iterating on 3-D array \n",
    " arr =np.array([[[1,2],[3,4]],[[5,6],[7,8]]])\n",
    "    \n",
    "y = np .nditer(arr)\n",
    "\n",
    " for x in y:\n",
    "        print(x)"
   ]
  },
  {
   "cell_type": "code",
   "execution_count": null,
   "id": "c555bbb6",
   "metadata": {},
   "outputs": [],
   "source": []
  },
  {
   "cell_type": "code",
   "execution_count": null,
   "id": "2eb55cec",
   "metadata": {},
   "outputs": [],
   "source": []
  },
  {
   "cell_type": "code",
   "execution_count": null,
   "id": "7bab34b8",
   "metadata": {},
   "outputs": [],
   "source": []
  },
  {
   "cell_type": "code",
   "execution_count": null,
   "id": "7e72fcc3",
   "metadata": {},
   "outputs": [],
   "source": []
  },
  {
   "cell_type": "code",
   "execution_count": null,
   "id": "4e05418e",
   "metadata": {},
   "outputs": [],
   "source": []
  },
  {
   "cell_type": "code",
   "execution_count": null,
   "id": "b4260f5c",
   "metadata": {},
   "outputs": [],
   "source": []
  },
  {
   "cell_type": "code",
   "execution_count": null,
   "id": "46275c89",
   "metadata": {},
   "outputs": [],
   "source": []
  },
  {
   "cell_type": "code",
   "execution_count": null,
   "id": "e0c79bcd",
   "metadata": {},
   "outputs": [],
   "source": []
  },
  {
   "cell_type": "code",
   "execution_count": null,
   "id": "d9ac6ab3",
   "metadata": {},
   "outputs": [],
   "source": []
  },
  {
   "cell_type": "code",
   "execution_count": null,
   "id": "ca6226a1",
   "metadata": {},
   "outputs": [],
   "source": []
  },
  {
   "cell_type": "code",
   "execution_count": null,
   "id": "2ba1dcb5",
   "metadata": {},
   "outputs": [],
   "source": []
  },
  {
   "cell_type": "code",
   "execution_count": null,
   "id": "7d41a18e",
   "metadata": {},
   "outputs": [],
   "source": []
  },
  {
   "cell_type": "code",
   "execution_count": null,
   "id": "4bfc24f7",
   "metadata": {},
   "outputs": [],
   "source": []
  }
 ],
 "metadata": {
  "kernelspec": {
   "display_name": "Python 3 (ipykernel)",
   "language": "python",
   "name": "python3"
  },
  "language_info": {
   "codemirror_mode": {
    "name": "ipython",
    "version": 3
   },
   "file_extension": ".py",
   "mimetype": "text/x-python",
   "name": "python",
   "nbconvert_exporter": "python",
   "pygments_lexer": "ipython3",
   "version": "3.11.2"
  }
 },
 "nbformat": 4,
 "nbformat_minor": 5
}
