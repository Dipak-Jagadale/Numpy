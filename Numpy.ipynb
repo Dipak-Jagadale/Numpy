{
 "cells": [
  {
   "cell_type": "markdown",
   "id": "d850f54f",
   "metadata": {},
   "source": [
    "## Numerical Python End to End in Details\n"
   ]
  },
  {
   "cell_type": "markdown",
   "id": "e3955fe0",
   "metadata": {},
   "source": [
    "### Numpy"
   ]
  },
  {
   "cell_type": "markdown",
   "id": "be21ea58",
   "metadata": {},
   "source": [
    "#### Numpy is a Numerical python "
   ]
  },
  {
   "cell_type": "markdown",
   "id": "dc8ac43c",
   "metadata": {},
   "source": [
    "It is developed Travis oliphant in 2005"
   ]
  },
  {
   "cell_type": "markdown",
   "id": "56270166",
   "metadata": {},
   "source": [
    "Numpy  has function to work on linear algebra, fourier trasform, and matrices "
   ]
  },
  {
   "cell_type": "markdown",
   "id": "4c24e603",
   "metadata": {},
   "source": [
    "its basicaallly used to work with array,it can work with multidimentional array"
   ]
  },
  {
   "cell_type": "markdown",
   "id": "65a45e17",
   "metadata": {},
   "source": [
    "# Why\n"
   ]
  },
  {
   "cell_type": "markdown",
   "id": "8033597e",
   "metadata": {},
   "source": [
    "Numpy is built using python , and most of the which requires faster excution is developed \n",
    "using C or C++,so it is very fast in excution"
   ]
  },
  {
   "cell_type": "markdown",
   "id": "4ce95ab5",
   "metadata": {},
   "source": [
    "Numpy arrays are called as ndarray"
   ]
  },
  {
   "cell_type": "markdown",
   "id": "7b73784f",
   "metadata": {},
   "source": [
    "Numpy has 50X speed  as compared too python list"
   ]
  },
  {
   "cell_type": "markdown",
   "id": "4c8490e9",
   "metadata": {},
   "source": [
    "Numpy provides lots of functions which can be performed on large date"
   ]
  },
  {
   "cell_type": "markdown",
   "id": "79672551",
   "metadata": {},
   "source": [
    "Numpy gives faster response as compared to list as it stores numpy arrays at one continous location"
   ]
  },
  {
   "cell_type": "markdown",
   "id": "1d97303b",
   "metadata": {},
   "source": [
    "### Installation of Numpy"
   ]
  },
  {
   "cell_type": "markdown",
   "id": "33ea5bae",
   "metadata": {},
   "source": [
    "Go to terminal and use below command, without!\n",
    "\n",
    "! pip install numpy\n",
    "\n",
    "you can use other tools like  spyder or annaconda wnich comes\n",
    "with its installation"
   ]
  },
  {
   "cell_type": "code",
   "execution_count": 4,
   "id": "13d02f1a",
   "metadata": {},
   "outputs": [
    {
     "name": "stdout",
     "output_type": "stream",
     "text": [
      "numpy version is : 1.24.2\n",
      "[1, 2, 3, 4, 5, 6, 7]\n",
      "<class 'type'>\n",
      "[1 2 3 4 5 6 7]\n",
      "<class 'numpy.ndarray'>\n"
     ]
    }
   ],
   "source": [
    "#create a numpy array using list\n",
    "\n",
    "import numpy as np\n",
    "\n",
    "print(\"numpy version is :\",np.__version__)\n",
    "\n",
    "list1 = [1,2,3,4,5,6,7]\n",
    "print(list1)\n",
    "print(type(list))\n",
    "x = np.array(list1)\n",
    "print(x)\n",
    "print(type(x))"
   ]
  },
  {
   "cell_type": "code",
   "execution_count": 5,
   "id": "e4600045",
   "metadata": {},
   "outputs": [
    {
     "name": "stdout",
     "output_type": "stream",
     "text": [
      "[1 2 3 4 5 6 7 8 9]\n",
      "1\n"
     ]
    }
   ],
   "source": [
    "# How to access the element \n",
    "# its 1- D array\n",
    "arr = np.array([1,2,3,4,5,6,7,8,9])\n",
    "print(arr)\n",
    "\n",
    "# lets check the dimention of the array\n",
    "print(x.ndim)"
   ]
  },
  {
   "cell_type": "code",
   "execution_count": 6,
   "id": "3b71ea59",
   "metadata": {},
   "outputs": [
    {
     "name": "stdout",
     "output_type": "stream",
     "text": [
      "[1 2 3 4 5 6 7 8 9]\n",
      "<class 'numpy.ndarray'>\n",
      "************************************************************\n",
      "[10 20 30 40]\n",
      "<class 'numpy.ndarray'>\n"
     ]
    }
   ],
   "source": [
    "# creat a numpy  array using list\n",
    "\n",
    "arr = np.array ([1,2,3,4,5,6,7,8,9])\n",
    "print(arr)\n",
    "print(type(arr))\n",
    "\n",
    "print('*'*60)\n",
    "\n",
    "lst = [10,20,30,40]\n",
    "ar = np.array(lst)\n",
    "print(ar)\n",
    "print(type(ar))"
   ]
  },
  {
   "cell_type": "code",
   "execution_count": 7,
   "id": "f546bcf7",
   "metadata": {},
   "outputs": [
    {
     "name": "stdout",
     "output_type": "stream",
     "text": [
      "[1 2 3 4 5 6 7 8 9]\n",
      "Number of dimention: 1\n"
     ]
    }
   ],
   "source": [
    "# how to access the element\n",
    "# its 1-D array\n",
    "arr = np.array([1,2,3,4,5,6,7,8,9])\n",
    "print(arr)\n",
    "# lets check the dimentions of the array\n",
    "print('Number of dimention:',arr.ndim)"
   ]
  },
  {
   "cell_type": "code",
   "execution_count": 8,
   "id": "2f6d1c45",
   "metadata": {},
   "outputs": [
    {
     "name": "stdout",
     "output_type": "stream",
     "text": [
      "[1 2 3 4 5 6]\n",
      "<class 'numpy.ndarray'>\n"
     ]
    }
   ],
   "source": [
    "# craete numpy array using tuple\n",
    "\n",
    "tup = (1,2,3,4,5,6)\n",
    "ar = np.array(tup)\n",
    "print(ar)\n",
    "print(type(ar))"
   ]
  },
  {
   "cell_type": "code",
   "execution_count": 9,
   "id": "ddb1f60a",
   "metadata": {},
   "outputs": [],
   "source": [
    "# different dimentional arrays:"
   ]
  },
  {
   "cell_type": "code",
   "execution_count": 10,
   "id": "1432d359",
   "metadata": {},
   "outputs": [
    {
     "name": "stdout",
     "output_type": "stream",
     "text": [
      "9\n",
      "<class 'numpy.ndarray'>\n",
      "Dimention of array : 0\n"
     ]
    }
   ],
   "source": [
    "# 1. 0-D array\n",
    "\n",
    "arr = np.array (9)\n",
    "print(arr)\n",
    "print(type(arr))\n",
    "print(\"Dimention of array :\",arr.ndim)"
   ]
  },
  {
   "cell_type": "code",
   "execution_count": 11,
   "id": "e258bfe5",
   "metadata": {},
   "outputs": [
    {
     "name": "stdout",
     "output_type": "stream",
     "text": [
      "[ 1  2  3  4 45]\n",
      "<class 'numpy.ndarray'>\n",
      "Dimensons of array: 1\n",
      "element present at 4th index: 45\n"
     ]
    }
   ],
   "source": [
    "# 2. 1-D array \n",
    "\n",
    "arr= np. array([1,2,3,4,45])\n",
    "print(arr)\n",
    "print(type(arr))\n",
    "print(\"Dimensons of array:\", arr.ndim)\n",
    "\n",
    "# access element an 1-D Array \n",
    "print ('element present at 4th index:', arr[4])"
   ]
  },
  {
   "cell_type": "code",
   "execution_count": 12,
   "id": "66d69e29",
   "metadata": {},
   "outputs": [
    {
     "name": "stdout",
     "output_type": "stream",
     "text": [
      "[[1 2 3]\n",
      " [4 5 6]]\n",
      "<class 'numpy.ndarray'>\n",
      "Dimention of array: 2\n",
      "Element present at lst in axis 0: 2\n"
     ]
    }
   ],
   "source": [
    "# 3 2-D array \n",
    "# Arrray having 1- D array as input eleement ara called as  2-D array\n",
    "\n",
    "arr = np.array([[1,2,3],[4,5,6]])\n",
    "print(arr)\n",
    "print(type(arr))\n",
    "print(\"Dimention of array:\",arr.ndim)\n",
    "\n",
    "# Acess eleemn an 2-D  array\n",
    "# Array having 1-D array as input element are called as 2-D array\n",
    "\n",
    "\n",
    "print('Element present at lst in axis 0:',arr[0,1]) # array"
   ]
  },
  {
   "cell_type": "code",
   "execution_count": 13,
   "id": "dc6458d2",
   "metadata": {},
   "outputs": [
    {
     "name": "stdout",
     "output_type": "stream",
     "text": [
      "[[1 2 3 4]\n",
      " [4 5 6 7]\n",
      " [4 5 6 7]\n",
      " [4 5 6 7]]\n",
      "Dimention: 2\n"
     ]
    }
   ],
   "source": [
    "import numpy as np\n",
    "ar = [[1,2,3,4],[4,5,6,7],[4,5,6,7],[4,5,6,7]]\n",
    "arr = np.array(ar)\n",
    "print(arr)\n",
    "print(\"Dimention:\",arr.ndim)"
   ]
  },
  {
   "cell_type": "code",
   "execution_count": 14,
   "id": "a4e42afe",
   "metadata": {},
   "outputs": [
    {
     "name": "stdout",
     "output_type": "stream",
     "text": [
      "[[1 2 3 4]\n",
      " [4 5 6 7]\n",
      " [4 5 6 7]\n",
      " [4 5 6 7]]\n",
      "Dimention: 2\n",
      "************************************************************\n",
      "arr[0][3]: 4\n",
      "************************************************************\n",
      "arr[0]: [1 2 3 4]\n",
      "************************************************************\n",
      "arr[0][2]: 3\n",
      "************************************************************\n",
      "arr[1]: [4 5 6 7]\n",
      "arr[3,1]: 5\n"
     ]
    }
   ],
   "source": [
    "#Access the element of 2-D array\n",
    "\n",
    "\n",
    "print(arr)\n",
    "#dimention\n",
    "print(\"Dimention:\",arr.ndim)\n",
    "print('*'*60)\n",
    "\n",
    "#one way is to write\n",
    "print('arr[0][3]:',arr[0][3])\n",
    "print('*'*60)\n",
    "\n",
    "print('arr[0]:',arr[0])\n",
    "print('*'*60)\n",
    "\n",
    "print('arr[0][2]:',arr[0][2])\n",
    "print('*'*60)\n",
    "\n",
    "#anather way is like\n",
    "print('arr[1]:',arr[1])\n",
    "print('arr[3,1]:',arr[3,1])"
   ]
  },
  {
   "cell_type": "code",
   "execution_count": 15,
   "id": "6b052a28",
   "metadata": {},
   "outputs": [
    {
     "name": "stdout",
     "output_type": "stream",
     "text": [
      "[[[1, 2, 3], [4, 5, 6]], [[10, 20, 30], [40, 50, 60]]]\n",
      "<class 'list'>\n",
      "************************************************************\n",
      "[[[ 1  2  3]\n",
      "  [ 4  5  6]]\n",
      "\n",
      " [[10 20 30]\n",
      "  [40 50 60]]]\n",
      "<class 'numpy.ndarray'>\n",
      "****************************************************************************************************\n",
      "Dimention of array: 3\n"
     ]
    }
   ],
   "source": [
    "#4].  3-D array\n",
    "# array  that has 2-D array (matrices)as its element is called \n",
    "\n",
    "ar= [[[1,2,3],[4,5,6]],[[10,20,30],[40,50,60]]]\n",
    "print(ar)\n",
    "print(type(ar))\n",
    "print('*'*60)\n",
    "\n",
    "arr=np.array(ar)\n",
    "print(arr)\n",
    "print(type(arr))\n",
    "print('*'*100)\n",
    "\n",
    "print('Dimention of array:', arr.ndim)"
   ]
  },
  {
   "cell_type": "code",
   "execution_count": 16,
   "id": "a0696532",
   "metadata": {},
   "outputs": [
    {
     "name": "stdout",
     "output_type": "stream",
     "text": [
      "[[[ 1  2  3]\n",
      "  [ 4  5  6]]\n",
      "\n",
      " [[10 20 30]\n",
      "  [40 50 60]]]\n",
      "<class 'numpy.ndarray'>\n",
      "****************************************************************************************************\n",
      "One way is :\n",
      "arr[1]: [[10 20 30]\n",
      " [40 50 60]]\n",
      "arr[0][0]: [1 2 3]\n",
      "arr[0][0][2]: 3\n",
      "****************************************************************************************************\n"
     ]
    }
   ],
   "source": [
    "# access the element of the 3-D array \n",
    "\n",
    "print(arr)\n",
    "print(type(arr))\n",
    "print('*'*100)\n",
    "\n",
    "print('One way is :')\n",
    "print('arr[1]:',arr[1])\n",
    "print('arr[0][0]:',arr[0][0])\n",
    "print('arr[0][0][2]:',arr[0][0][2])\n",
    "\n",
    "print('*'*100)"
   ]
  },
  {
   "cell_type": "markdown",
   "id": "888d019b",
   "metadata": {},
   "source": [
    "## Creat an n dimention array"
   ]
  },
  {
   "cell_type": "markdown",
   "id": "22ee9d8f",
   "metadata": {},
   "source": [
    " lower dimention to lower dimention will possible by using  ndmin funtion for we need to go with array.reshape(funtion)\n",
    " \n",
    " \n",
    " ndim = ..1./2/3/4/5/...\n",
    " \n",
    " but higher dimention to lower dimention will possible by using ndim function for we need to go with array.reshape() function"
   ]
  },
  {
   "cell_type": "code",
   "execution_count": 24,
   "id": "2b691467",
   "metadata": {},
   "outputs": [
    {
     "name": "stdout",
     "output_type": "stream",
     "text": [
      "[[[[[1 2 3 4]]]]]\n",
      "Number of dimention: 5\n"
     ]
    }
   ],
   "source": [
    "# creat an n dimention array \n",
    "arr = np.array([1,2,3,4],ndmin=5)\n",
    "\n",
    "print(arr)\n",
    "print('Number of dimention:',arr.ndim)"
   ]
  },
  {
   "cell_type": "code",
   "execution_count": 25,
   "id": "d4b95d9a",
   "metadata": {},
   "outputs": [
    {
     "data": {
      "text/plain": [
       "(array([[[[[1, 2, 3]]]]]), 5)"
      ]
     },
     "execution_count": 25,
     "metadata": {},
     "output_type": "execute_result"
    }
   ],
   "source": [
    "# lower to higher is possible but higher to lower not possible\n",
    "import numpy as np\n",
    "arr1 = np.array([[[[[1,2,3]]]]],ndmin=3)\n",
    "arr1,arr1.ndim"
   ]
  },
  {
   "cell_type": "code",
   "execution_count": 32,
   "id": "6d15b433",
   "metadata": {},
   "outputs": [
    {
     "data": {
      "text/plain": [
       "(array([[[1, 2, 3]]]), 3)"
      ]
     },
     "execution_count": 32,
     "metadata": {},
     "output_type": "execute_result"
    }
   ],
   "source": [
    "arr2 = np.array([1,2,3],ndmin=3)\n",
    "arr2,arr2.ndim"
   ]
  },
  {
   "cell_type": "code",
   "execution_count": 27,
   "id": "2059d6e7",
   "metadata": {},
   "outputs": [
    {
     "data": {
      "text/plain": [
       "5"
      ]
     },
     "execution_count": 27,
     "metadata": {},
     "output_type": "execute_result"
    }
   ],
   "source": [
    "arr11 = np.array([1,2,3,4])\n",
    "arr10 = arr11.reshape((1,1,1,1,4))\n",
    "arr10.ndim"
   ]
  },
  {
   "cell_type": "code",
   "execution_count": 35,
   "id": "1084a609",
   "metadata": {},
   "outputs": [
    {
     "name": "stdout",
     "output_type": "stream",
     "text": [
      "[[[ 1  2  3]\n",
      "  [ 4  5  6]]\n",
      "\n",
      " [[10 20 30]\n",
      "  [40 50 60]]] 3\n"
     ]
    },
    {
     "data": {
      "text/plain": [
       "(2, 2, 3)"
      ]
     },
     "execution_count": 35,
     "metadata": {},
     "output_type": "execute_result"
    }
   ],
   "source": [
    "b = np.array([[[1,2,3],[4,5,6,]],[[10,20,30],[40,50,60]]])\n",
    "print(b,b.ndim)\n",
    "b.shape"
   ]
  },
  {
   "cell_type": "code",
   "execution_count": 37,
   "id": "8913f5e4",
   "metadata": {},
   "outputs": [
    {
     "data": {
      "text/plain": [
       "(array([[[ 1,  2,  3],\n",
       "         [ 4,  5,  6]],\n",
       " \n",
       "        [[10, 20, 30],\n",
       "         [40, 50, 60]]]),\n",
       " 3)"
      ]
     },
     "execution_count": 37,
     "metadata": {},
     "output_type": "execute_result"
    }
   ],
   "source": [
    "b=np.array ([[[1,2,3],[4,5,6]],[[10,20,30],[40,50,60]]])\n",
    "b,b.ndim"
   ]
  },
  {
   "cell_type": "code",
   "execution_count": 38,
   "id": "cbc8fad4",
   "metadata": {},
   "outputs": [
    {
     "data": {
      "text/plain": [
       "6"
      ]
     },
     "execution_count": 38,
     "metadata": {},
     "output_type": "execute_result"
    }
   ],
   "source": [
    "b[0,1,2]"
   ]
  },
  {
   "cell_type": "markdown",
   "id": "94a2780e",
   "metadata": {},
   "source": [
    "## Array Slicing"
   ]
  },
  {
   "cell_type": "code",
   "execution_count": 53,
   "id": "4e06e1e4",
   "metadata": {},
   "outputs": [
    {
     "data": {
      "text/plain": [
       "(array([[[[[1, 2, 3, 4]]]]]), 5, (1, 1, 1, 1, 4))"
      ]
     },
     "execution_count": 53,
     "metadata": {},
     "output_type": "execute_result"
    }
   ],
   "source": [
    "arr = np.array([1,2,3,4],ndmin=5)\n",
    "arr,arr.ndim,arr.shape\n",
    "\n"
   ]
  },
  {
   "cell_type": "code",
   "execution_count": 46,
   "id": "c4deee13",
   "metadata": {},
   "outputs": [
    {
     "name": "stdout",
     "output_type": "stream",
     "text": [
      "1\n",
      "2\n",
      "3\n",
      "4\n"
     ]
    }
   ],
   "source": [
    "# 5d array slicing\n",
    "\n",
    "print(arr[0][0][0][0][0])\n",
    "print(arr[0][0][0][0][1])\n",
    "print(arr[0][0][0][0][2])\n",
    "print(arr[0][0][0][0][3])\n"
   ]
  },
  {
   "cell_type": "code",
   "execution_count": 58,
   "id": "daacc008",
   "metadata": {},
   "outputs": [
    {
     "name": "stdout",
     "output_type": "stream",
     "text": [
      "[1 2 3 4 5 6 7 8 9]\n",
      "Length: 9\n",
      "[6 7 8 9]\n",
      "[1 2 3 4 5 6 7 8 9]\n"
     ]
    }
   ],
   "source": [
    "arr = np.array([1,2,3,4,5,6,7,8,9])\n",
    "print(arr)\n",
    "\n",
    "# slice\n",
    "print(\"Length:\",len(arr))\n",
    "print(arr[5:9])\n",
    "print(arr)\n",
    "\n",
    "# [start:end], start include ,end excluded"
   ]
  },
  {
   "cell_type": "code",
   "execution_count": 59,
   "id": "6d08dbe8",
   "metadata": {},
   "outputs": [
    {
     "name": "stdout",
     "output_type": "stream",
     "text": [
      "[1 2 3 4 5 6 7 8 9]\n",
      "[1 2 3 4 5]\n"
     ]
    }
   ],
   "source": [
    "print(arr)\n",
    "print(arr[0:5])"
   ]
  },
  {
   "cell_type": "markdown",
   "id": "66701225",
   "metadata": {},
   "source": [
    "## Negative indices"
   ]
  },
  {
   "cell_type": "markdown",
   "id": "9035e2ec",
   "metadata": {},
   "source": [
    "####  Negative indices always start from last element of n-d \n",
    "#### array i.e -1st index is last element of ndarray"
   ]
  },
  {
   "cell_type": "code",
   "execution_count": 63,
   "id": "0922d33a",
   "metadata": {},
   "outputs": [
    {
     "name": "stdout",
     "output_type": "stream",
     "text": [
      "[1 2 3 4 5 6 7 8 9]\n"
     ]
    }
   ],
   "source": [
    "print(arr)"
   ]
  },
  {
   "cell_type": "code",
   "execution_count": 64,
   "id": "0e7656d4",
   "metadata": {},
   "outputs": [
    {
     "name": "stdout",
     "output_type": "stream",
     "text": [
      "9\n",
      "5\n",
      "1\n"
     ]
    }
   ],
   "source": [
    "print(arr[-1])\n",
    "print(arr[-5])\n",
    "print(arr[-9])"
   ]
  },
  {
   "cell_type": "code",
   "execution_count": 67,
   "id": "5334bd5c",
   "metadata": {},
   "outputs": [
    {
     "name": "stdout",
     "output_type": "stream",
     "text": [
      "[1 2 3 4 5 6 7 8 9]\n",
      "[1 3 5 7 9]\n"
     ]
    }
   ],
   "source": [
    "# step value in slincing a numpy array\n",
    "# here step is 2 \n",
    "print(arr)\n",
    "print(arr[0:9:2])"
   ]
  },
  {
   "cell_type": "code",
   "execution_count": 68,
   "id": "e0a39416",
   "metadata": {},
   "outputs": [
    {
     "name": "stdout",
     "output_type": "stream",
     "text": [
      "[1 3 5 7 9]\n",
      "[1 3 5]\n"
     ]
    }
   ],
   "source": [
    "print(arr[::2]) # ::2 >> 0 to 9 index by step index 2\n",
    "print(arr[0:6:2]) # 0:6:2 >> 0 to 6 index by step value 2\n"
   ]
  },
  {
   "cell_type": "markdown",
   "id": "3b9a9dc3",
   "metadata": {},
   "source": [
    "### Slincing of 2D Array"
   ]
  },
  {
   "cell_type": "code",
   "execution_count": 70,
   "id": "778ba7d1",
   "metadata": {},
   "outputs": [
    {
     "name": "stdout",
     "output_type": "stream",
     "text": [
      "[[ 1  2  3  4  5]\n",
      " [ 6  7  8  9 10]]\n",
      "\n",
      "\n",
      "8\n",
      "[7 8 9]\n",
      "[2 3 4]\n"
     ]
    }
   ],
   "source": [
    "arr = np .array([[1,2,3,4,5],[6,7,8,9,10]])\n",
    "\n",
    "print (arr)\n",
    "print('\\n')\n",
    "print(arr[1,2])\n",
    "print(arr[1,1:4]) # arr\n",
    "print(arr[0,1:4])"
   ]
  },
  {
   "cell_type": "code",
   "execution_count": 71,
   "id": "7ef02828",
   "metadata": {},
   "outputs": [
    {
     "name": "stdout",
     "output_type": "stream",
     "text": [
      "[[ 1  2  3  4  5]\n",
      " [ 6  7  8  9 10]]\n"
     ]
    }
   ],
   "source": [
    "print(arr)"
   ]
  },
  {
   "cell_type": "code",
   "execution_count": 72,
   "id": "d78416a6",
   "metadata": {},
   "outputs": [
    {
     "data": {
      "text/plain": [
       "array([[3],\n",
       "       [8]])"
      ]
     },
     "execution_count": 72,
     "metadata": {},
     "output_type": "execute_result"
    }
   ],
   "source": [
    "arr[0:,2:3]"
   ]
  },
  {
   "cell_type": "code",
   "execution_count": 73,
   "id": "69bbc1b7",
   "metadata": {},
   "outputs": [
    {
     "data": {
      "text/plain": [
       "array([[1, 2, 3],\n",
       "       [6, 7, 8]])"
      ]
     },
     "execution_count": 73,
     "metadata": {},
     "output_type": "execute_result"
    }
   ],
   "source": [
    "arr[0:,:3]"
   ]
  },
  {
   "cell_type": "code",
   "execution_count": 75,
   "id": "5a92936d",
   "metadata": {},
   "outputs": [
    {
     "data": {
      "text/plain": [
       "array([1, 2, 3])"
      ]
     },
     "execution_count": 75,
     "metadata": {},
     "output_type": "execute_result"
    }
   ],
   "source": [
    "arr[0,:3]"
   ]
  },
  {
   "cell_type": "code",
   "execution_count": 76,
   "id": "4f0af0e7",
   "metadata": {},
   "outputs": [
    {
     "name": "stdout",
     "output_type": "stream",
     "text": [
      "[[1 2 3]]\n"
     ]
    }
   ],
   "source": [
    "print(arr[0:1,0:3])  # arr[location index from to,element index]\n"
   ]
  },
  {
   "cell_type": "code",
   "execution_count": 77,
   "id": "13fed0e1",
   "metadata": {},
   "outputs": [
    {
     "name": "stdout",
     "output_type": "stream",
     "text": [
      "[3 8]\n"
     ]
    }
   ],
   "source": [
    "print(arr[0:2,2])"
   ]
  },
  {
   "cell_type": "code",
   "execution_count": 79,
   "id": "019e018f",
   "metadata": {},
   "outputs": [
    {
     "name": "stdout",
     "output_type": "stream",
     "text": [
      "[[ 1  2  3  4  5]\n",
      " [10 20 30 40 50]\n",
      " [11 22 33 44 55]]\n",
      "15 (3, 5)\n"
     ]
    }
   ],
   "source": [
    "arr = np.array([[1,2,3,4,5],[10,20,30,40,50],[11,22,33,44,55]])\n",
    "print(arr)\n",
    "print(arr.size,arr.shape)"
   ]
  },
  {
   "cell_type": "code",
   "execution_count": 80,
   "id": "280e5ffa",
   "metadata": {},
   "outputs": [
    {
     "name": "stdout",
     "output_type": "stream",
     "text": [
      "[[ 2  3]\n",
      " [20 30]]\n",
      "\n",
      "\n",
      "[[20 30 40]\n",
      " [22 33 44]]\n"
     ]
    }
   ],
   "source": [
    "# 2, 3 \n",
    "# 20,30\n",
    "print(arr[0:2,1:3])\n",
    "\n",
    "print('\\n')\n",
    "\n",
    "# 20,30,40\n",
    "# 22,33,44\n",
    "\n",
    "print(arr[1:,1:4])"
   ]
  },
  {
   "cell_type": "markdown",
   "id": "c4dcbb55",
   "metadata": {},
   "source": [
    "## Slicing of 3D array"
   ]
  },
  {
   "cell_type": "code",
   "execution_count": 82,
   "id": "f95babb4",
   "metadata": {},
   "outputs": [
    {
     "name": "stdout",
     "output_type": "stream",
     "text": [
      "[[[ 1  2  3]\n",
      "  [ 5  6  7]]\n",
      "\n",
      " [[11 22 33]\n",
      "  [55 66 77]]]\n",
      "3\n"
     ]
    }
   ],
   "source": [
    "arr   = np.array([[[1,2,3],[5,6,7]],[[11,22,33],[55,66,77]]])\n",
    "print(arr)\n",
    "print(arr.ndim)"
   ]
  },
  {
   "cell_type": "code",
   "execution_count": 83,
   "id": "0d9048e6",
   "metadata": {},
   "outputs": [
    {
     "data": {
      "text/plain": [
       "array([6, 7])"
      ]
     },
     "execution_count": 83,
     "metadata": {},
     "output_type": "execute_result"
    }
   ],
   "source": [
    "arr[0][1][1:3] # [array location, array row location, array ]"
   ]
  },
  {
   "cell_type": "code",
   "execution_count": 85,
   "id": "94335fb8",
   "metadata": {},
   "outputs": [
    {
     "data": {
      "text/plain": [
       "array([55, 66])"
      ]
     },
     "execution_count": 85,
     "metadata": {},
     "output_type": "execute_result"
    }
   ],
   "source": [
    "arr[1,1,0:2]"
   ]
  },
  {
   "cell_type": "code",
   "execution_count": 86,
   "id": "a9bd130c",
   "metadata": {},
   "outputs": [
    {
     "data": {
      "text/plain": [
       "array([66, 77])"
      ]
     },
     "execution_count": 86,
     "metadata": {},
     "output_type": "execute_result"
    }
   ],
   "source": [
    "arr[1][1][1:3]"
   ]
  },
  {
   "cell_type": "markdown",
   "id": "fdc7a132",
   "metadata": {},
   "source": [
    "# Data types in Numpy"
   ]
  },
  {
   "cell_type": "markdown",
   "id": "e0cbe1fd",
   "metadata": {},
   "source": [
    "# list of all data types in numpy"
   ]
  },
  {
   "cell_type": "code",
   "execution_count": 88,
   "id": "2053a4e4",
   "metadata": {},
   "outputs": [
    {
     "ename": "SyntaxError",
     "evalue": "invalid syntax (1226495924.py, line 3)",
     "output_type": "error",
     "traceback": [
      "\u001b[1;36m  Cell \u001b[1;32mIn [88], line 3\u001b[1;36m\u001b[0m\n\u001b[1;33m    unit - unsigned intger\u001b[0m\n\u001b[1;37m                    ^\u001b[0m\n\u001b[1;31mSyntaxError\u001b[0m\u001b[1;31m:\u001b[0m invalid syntax\n"
     ]
    }
   ],
   "source": [
    "i/Int -integer\n",
    "Bool - boilean \n",
    "unit - unsigned intger \n",
    "f/Float - Complex Float\n",
    "string - string\n",
    "m - datatime\n",
    "m - timedelta\n",
    "o - object \n",
    "U - unicode string"
   ]
  },
  {
   "cell_type": "code",
   "execution_count": 89,
   "id": "90b5d2c3",
   "metadata": {},
   "outputs": [],
   "source": [
    "import numpy as np\n"
   ]
  },
  {
   "cell_type": "code",
   "execution_count": 90,
   "id": "96dca6a1",
   "metadata": {},
   "outputs": [
    {
     "name": "stdout",
     "output_type": "stream",
     "text": [
      "int32\n"
     ]
    }
   ],
   "source": [
    "# dype \n",
    "\n",
    "arr = np.array ([1,2,3,4])\n",
    "print(arr.dtype)"
   ]
  },
  {
   "cell_type": "code",
   "execution_count": 91,
   "id": "22b56e11",
   "metadata": {},
   "outputs": [
    {
     "name": "stdout",
     "output_type": "stream",
     "text": [
      "<U6\n"
     ]
    }
   ],
   "source": [
    "arr = np. array(['apple','banana','cherry'])\n",
    "print(arr.dtype)"
   ]
  },
  {
   "cell_type": "code",
   "execution_count": 92,
   "id": "df08c7f6",
   "metadata": {},
   "outputs": [
    {
     "name": "stdout",
     "output_type": "stream",
     "text": [
      "['1' '2' '3' '4']\n",
      "<U1\n"
     ]
    }
   ],
   "source": [
    "# creating arrays with a defined data type\n",
    "\n",
    "arr = np.array([1,2,3,4],dtype=str)\n",
    "print(arr)\n",
    "print(arr.dtype)"
   ]
  },
  {
   "cell_type": "code",
   "execution_count": 93,
   "id": "64358b8b",
   "metadata": {},
   "outputs": [
    {
     "name": "stdout",
     "output_type": "stream",
     "text": [
      "[1 2 3 4]\n",
      "int32\n"
     ]
    }
   ],
   "source": [
    "arr = np.array([1,2,3,4],dtype='i')  #int\n",
    "print(arr)\n",
    "print(arr.dtype)"
   ]
  },
  {
   "cell_type": "code",
   "execution_count": 94,
   "id": "56f440a3",
   "metadata": {},
   "outputs": [
    {
     "name": "stdout",
     "output_type": "stream",
     "text": [
      "[1. 2. 3. 4. 5. 6.]\n",
      "float32\n"
     ]
    }
   ],
   "source": [
    "arr = np.array([1,2,3,4,5,6],dtype='f')\n",
    "print(arr)\n",
    "print(arr.dtype)"
   ]
  },
  {
   "cell_type": "code",
   "execution_count": 95,
   "id": "ba73b4b1",
   "metadata": {},
   "outputs": [
    {
     "name": "stdout",
     "output_type": "stream",
     "text": [
      "[1. 2. 3. 4. 5. 6.]\n",
      "float64\n"
     ]
    }
   ],
   "source": [
    "arr= np.array([1,2,3,4,5,6],dtype='float')\n",
    "print(arr)\n",
    "print(arr.dtype)"
   ]
  },
  {
   "cell_type": "code",
   "execution_count": 97,
   "id": "bccc627b",
   "metadata": {},
   "outputs": [
    {
     "name": "stdout",
     "output_type": "stream",
     "text": [
      "[1 2 3 4]\n",
      "int32\n",
      "****************************************************************************************************\n",
      "[1 2 3 4]\n",
      "int32\n"
     ]
    }
   ],
   "source": [
    "# int with 4 byts\n",
    "\n",
    "arr = np.array([1,2,3,4],dtype='i')\n",
    "print(arr)\n",
    "print(arr.dtype)\n",
    "\n",
    "print('*'*100)\n",
    "\n",
    "arr = np.array([1,2,3,4],dtype='i')\n",
    "print(arr)\n",
    "print(arr.dtype)"
   ]
  },
  {
   "cell_type": "code",
   "execution_count": 99,
   "id": "4066a599",
   "metadata": {},
   "outputs": [],
   "source": [
    "# in python we are not responsible for memory management PVM is responsible for memory management"
   ]
  },
  {
   "cell_type": "markdown",
   "id": "253217de",
   "metadata": {},
   "source": []
  },
  {
   "cell_type": "code",
   "execution_count": 100,
   "id": "4aeaae0c",
   "metadata": {},
   "outputs": [
    {
     "name": "stdout",
     "output_type": "stream",
     "text": [
      "[1 2 3]\n"
     ]
    }
   ],
   "source": [
    "arr = np .array(['1','2','3'],dtype='i')\n",
    "print(arr)"
   ]
  },
  {
   "cell_type": "markdown",
   "id": "69bbdffc",
   "metadata": {},
   "source": [
    "## Data Type Conversion"
   ]
  },
  {
   "cell_type": "code",
   "execution_count": 103,
   "id": "8f407091",
   "metadata": {},
   "outputs": [
    {
     "name": "stdout",
     "output_type": "stream",
     "text": [
      "old array : [1.1 2.2 3.3 4.4]\n",
      "old array data type : float64\n",
      "****************************************************************************************************\n",
      "new array [1 2 3 4]\n",
      "new array data type : int32\n"
     ]
    }
   ],
   "source": [
    "# float to int\n",
    "\n",
    "arr = np.array([1.1,2.2,3.3,4.4])\n",
    "print('old array :',arr)\n",
    "print('old array data type :', arr.dtype)\n",
    "print('*'*100)\n",
    "new_arr = arr.astype('i')\n",
    "print('new array',new_arr)\n",
    "print('new array data type :',new_arr.dtype)\n"
   ]
  },
  {
   "cell_type": "code",
   "execution_count": 104,
   "id": "987bbf58",
   "metadata": {},
   "outputs": [
    {
     "name": "stdout",
     "output_type": "stream",
     "text": [
      "old array: [1 2 3 4 0]\n",
      "old array data type: int32\n",
      "****************************************************************************************************\n",
      "new array [ True  True  True  True False]\n",
      "new array data type: bool\n"
     ]
    }
   ],
   "source": [
    "# int to bool \n",
    "arr = np.array([1,2,3,4,0])\n",
    "print('old array:',arr)\n",
    "print('old array data type:',arr.dtype)\n",
    "print('*'*100)\n",
    "new_arr = arr.astype (bool)\n",
    "print('new array',new_arr)\n",
    "print('new array data type:',new_arr.dtype)"
   ]
  },
  {
   "cell_type": "markdown",
   "id": "9ed6f010",
   "metadata": {},
   "source": [
    "## Differance between copy and view"
   ]
  },
  {
   "cell_type": "markdown",
   "id": "bc5888e5",
   "metadata": {},
   "source": [
    "## Copy :\n",
    "#### A copy is a new array that has the same data as the original array.changes made to the copy do not affect the original array, and vice versa\n",
    "\n",
    "\n",
    "## View :\n",
    "#### A view is a new array that refers to the same data as the orinal array. changes made to the view affect the original array , and vice versa\n"
   ]
  },
  {
   "cell_type": "code",
   "execution_count": 105,
   "id": "1c98c601",
   "metadata": {},
   "outputs": [
    {
     "name": "stdout",
     "output_type": "stream",
     "text": [
      "original array: [1 2 3 4 5]\n",
      "copid array: [1 2 3 4 5]\n",
      "now we will update the original array \"1 to 100\"\n",
      "original array after update : [100   2   3   4   5]\n",
      "copied array after update in original: [1 2 3 4 5]\n"
     ]
    }
   ],
   "source": [
    "a = np.array([1,2,3,4,5])\n",
    "print('original array:',a)\n",
    "b=a.copy()\n",
    "print('copid array:',b)\n",
    "print('now we will update the original array \"1 to 100\"')\n",
    "a[0]=100\n",
    "print('original array after update :',a)\n",
    "print('copied array after update in original:',b)"
   ]
  },
  {
   "cell_type": "code",
   "execution_count": 109,
   "id": "b46f9884",
   "metadata": {},
   "outputs": [
    {
     "name": "stdout",
     "output_type": "stream",
     "text": [
      "original array: [1 2 3 4 5]\n",
      "copied array : [1 2 3 4 5]\n",
      "now we will update the original array \"1 to 100\"\n",
      "original array after update : [100   2   3   4   5]\n",
      "copied array after update in original : [100   2   3   4   5]\n"
     ]
    }
   ],
   "source": [
    "a=np.array([1,2,3,4,5])\n",
    "print('original array:',a)\n",
    "b=a .view()\n",
    "print('copied array :',a)\n",
    "print('now we will update the original array \"1 to 100\"')\n",
    "a[0]=100\n",
    "\n",
    "print('original array after update :',a)\n",
    "print('copied array after update in original :',b)\n"
   ]
  },
  {
   "cell_type": "code",
   "execution_count": 110,
   "id": "3b6b4c80",
   "metadata": {},
   "outputs": [
    {
     "name": "stdout",
     "output_type": "stream",
     "text": [
      "[42  2  3  4  5]\n",
      "[1 2 3 4 5]\n"
     ]
    }
   ],
   "source": [
    "# copy : it is going to creat new instance fpr ypur value\n",
    "\n",
    "arr = np .array([1,2,3,4,5])\n",
    "x = arr.copy()# separat object required \n",
    "arr[0]= 42 # updated arr 0 th index\n",
    "\n",
    "print (arr )\n",
    "print(x)"
   ]
  },
  {
   "cell_type": "code",
   "execution_count": 111,
   "id": "8eeb4784",
   "metadata": {},
   "outputs": [
    {
     "name": "stdout",
     "output_type": "stream",
     "text": [
      "[1 2 3 4 5 6]\n",
      "[100   2   3   4   5   6]\n",
      "[1 2 3 4 5 6]\n"
     ]
    }
   ],
   "source": [
    "arr = np.array ([1,2,3,4,5,6])\n",
    "x = arr.copy()# separat object required\n",
    "print(x)\n",
    "x[0] = 100\n",
    "print(x)\n",
    "\n",
    "print(arr)\n",
    "#print(x)"
   ]
  },
  {
   "cell_type": "code",
   "execution_count": 112,
   "id": "8b692126",
   "metadata": {},
   "outputs": [
    {
     "name": "stdout",
     "output_type": "stream",
     "text": [
      "[200   2   3   4   5]\n",
      "[200   2   3   4   5]\n"
     ]
    }
   ],
   "source": [
    "# view \n",
    "\n",
    "arr = np.array([1,2,3,4,5])\n",
    "x = arr.view ()\n",
    "\n",
    "#x = arr \n",
    "x[0] = 200\n",
    "print(x)\n",
    "print(x)"
   ]
  },
  {
   "cell_type": "code",
   "execution_count": 115,
   "id": "a78eb155",
   "metadata": {},
   "outputs": [
    {
     "name": "stdout",
     "output_type": "stream",
     "text": [
      "[4 2 3]\n",
      "[4 2 3]\n"
     ]
    }
   ],
   "source": [
    "a = np.array ([1,2,3])\n",
    "b = a.view()\n",
    "b[0]=4\n",
    "\n",
    "\n",
    "print(a)# output : [4,2,3]\n",
    "print(b)# output: [4,2,3]"
   ]
  },
  {
   "cell_type": "markdown",
   "id": "6251d3a8",
   "metadata": {},
   "source": [
    "### Base concept : how to identify copy or  view"
   ]
  },
  {
   "cell_type": "markdown",
   "id": "7169e737",
   "metadata": {},
   "source": [
    "#### "
   ]
  },
  {
   "cell_type": "code",
   "execution_count": null,
   "id": "56579907",
   "metadata": {},
   "outputs": [],
   "source": []
  },
  {
   "cell_type": "code",
   "execution_count": null,
   "id": "07cab3ae",
   "metadata": {},
   "outputs": [],
   "source": []
  },
  {
   "cell_type": "code",
   "execution_count": null,
   "id": "49cb3e42",
   "metadata": {},
   "outputs": [],
   "source": []
  },
  {
   "cell_type": "code",
   "execution_count": null,
   "id": "b7f9e84c",
   "metadata": {},
   "outputs": [],
   "source": []
  },
  {
   "cell_type": "code",
   "execution_count": null,
   "id": "faad964f",
   "metadata": {},
   "outputs": [],
   "source": []
  },
  {
   "cell_type": "code",
   "execution_count": null,
   "id": "b3dd4fe8",
   "metadata": {},
   "outputs": [],
   "source": []
  },
  {
   "cell_type": "code",
   "execution_count": null,
   "id": "f50abc95",
   "metadata": {},
   "outputs": [],
   "source": []
  },
  {
   "cell_type": "code",
   "execution_count": null,
   "id": "2da43a8c",
   "metadata": {},
   "outputs": [],
   "source": []
  },
  {
   "cell_type": "code",
   "execution_count": null,
   "id": "e5defebf",
   "metadata": {},
   "outputs": [],
   "source": []
  },
  {
   "cell_type": "code",
   "execution_count": null,
   "id": "5e652be7",
   "metadata": {},
   "outputs": [],
   "source": []
  },
  {
   "cell_type": "code",
   "execution_count": null,
   "id": "87eb417d",
   "metadata": {},
   "outputs": [],
   "source": []
  },
  {
   "cell_type": "code",
   "execution_count": null,
   "id": "f8e828cf",
   "metadata": {},
   "outputs": [],
   "source": []
  },
  {
   "cell_type": "code",
   "execution_count": null,
   "id": "d3a308d4",
   "metadata": {},
   "outputs": [],
   "source": []
  },
  {
   "cell_type": "code",
   "execution_count": null,
   "id": "6de730a0",
   "metadata": {},
   "outputs": [],
   "source": []
  }
 ],
 "metadata": {
  "kernelspec": {
   "display_name": "Python 3 (ipykernel)",
   "language": "python",
   "name": "python3"
  },
  "language_info": {
   "codemirror_mode": {
    "name": "ipython",
    "version": 3
   },
   "file_extension": ".py",
   "mimetype": "text/x-python",
   "name": "python",
   "nbconvert_exporter": "python",
   "pygments_lexer": "ipython3",
   "version": "3.11.2"
  }
 },
 "nbformat": 4,
 "nbformat_minor": 5
}
